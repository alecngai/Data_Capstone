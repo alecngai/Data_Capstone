{
 "cells": [
  {
   "cell_type": "code",
   "execution_count": 1,
   "id": "b919fd70",
   "metadata": {},
   "outputs": [],
   "source": [
    "import pandas as pd"
   ]
  },
  {
   "cell_type": "code",
   "execution_count": 3,
   "id": "aae2d280",
   "metadata": {},
   "outputs": [
    {
     "data": {
      "text/html": [
       "<div>\n",
       "<style scoped>\n",
       "    .dataframe tbody tr th:only-of-type {\n",
       "        vertical-align: middle;\n",
       "    }\n",
       "\n",
       "    .dataframe tbody tr th {\n",
       "        vertical-align: top;\n",
       "    }\n",
       "\n",
       "    .dataframe thead th {\n",
       "        text-align: right;\n",
       "    }\n",
       "</style>\n",
       "<table border=\"1\" class=\"dataframe\">\n",
       "  <thead>\n",
       "    <tr style=\"text-align: right;\">\n",
       "      <th></th>\n",
       "      <th>REF_DATE</th>\n",
       "      <th>GEO</th>\n",
       "      <th>DGUID</th>\n",
       "      <th>National Occupational Classification</th>\n",
       "      <th>Job vacancy characteristics</th>\n",
       "      <th>Statistics</th>\n",
       "      <th>UOM</th>\n",
       "      <th>UOM_ID</th>\n",
       "      <th>SCALAR_FACTOR</th>\n",
       "      <th>SCALAR_ID</th>\n",
       "      <th>VECTOR</th>\n",
       "      <th>COORDINATE</th>\n",
       "      <th>VALUE</th>\n",
       "      <th>STATUS</th>\n",
       "      <th>SYMBOL</th>\n",
       "      <th>TERMINATED</th>\n",
       "      <th>DECIMALS</th>\n",
       "    </tr>\n",
       "  </thead>\n",
       "  <tbody>\n",
       "    <tr>\n",
       "      <th>0</th>\n",
       "      <td>2015-01</td>\n",
       "      <td>Canada</td>\n",
       "      <td>2016A000011124</td>\n",
       "      <td>Total, all occupations</td>\n",
       "      <td>Type of work, all types</td>\n",
       "      <td>Job vacancies</td>\n",
       "      <td>Number</td>\n",
       "      <td>223</td>\n",
       "      <td>units</td>\n",
       "      <td>0</td>\n",
       "      <td>v104496271</td>\n",
       "      <td>1.1.1.1</td>\n",
       "      <td>408125.00</td>\n",
       "      <td>E</td>\n",
       "      <td>NaN</td>\n",
       "      <td>NaN</td>\n",
       "      <td>0</td>\n",
       "    </tr>\n",
       "    <tr>\n",
       "      <th>1</th>\n",
       "      <td>2015-01</td>\n",
       "      <td>Canada</td>\n",
       "      <td>2016A000011124</td>\n",
       "      <td>Total, all occupations</td>\n",
       "      <td>Type of work, all types</td>\n",
       "      <td>Proportion of job vacancies</td>\n",
       "      <td>Percentage</td>\n",
       "      <td>242</td>\n",
       "      <td>units</td>\n",
       "      <td>0</td>\n",
       "      <td>v104496272</td>\n",
       "      <td>1.1.1.2</td>\n",
       "      <td>100.00</td>\n",
       "      <td>NaN</td>\n",
       "      <td>NaN</td>\n",
       "      <td>NaN</td>\n",
       "      <td>1</td>\n",
       "    </tr>\n",
       "    <tr>\n",
       "      <th>2</th>\n",
       "      <td>2015-01</td>\n",
       "      <td>Canada</td>\n",
       "      <td>2016A000011124</td>\n",
       "      <td>Total, all occupations</td>\n",
       "      <td>Type of work, all types</td>\n",
       "      <td>Average offered hourly wage</td>\n",
       "      <td>Dollars</td>\n",
       "      <td>81</td>\n",
       "      <td>units</td>\n",
       "      <td>0</td>\n",
       "      <td>v104496273</td>\n",
       "      <td>1.1.1.5</td>\n",
       "      <td>19.15</td>\n",
       "      <td>D</td>\n",
       "      <td>NaN</td>\n",
       "      <td>NaN</td>\n",
       "      <td>2</td>\n",
       "    </tr>\n",
       "    <tr>\n",
       "      <th>3</th>\n",
       "      <td>2015-01</td>\n",
       "      <td>Canada</td>\n",
       "      <td>2016A000011124</td>\n",
       "      <td>Total, all occupations</td>\n",
       "      <td>Full-time</td>\n",
       "      <td>Job vacancies</td>\n",
       "      <td>Number</td>\n",
       "      <td>223</td>\n",
       "      <td>units</td>\n",
       "      <td>0</td>\n",
       "      <td>v104496274</td>\n",
       "      <td>1.1.2.1</td>\n",
       "      <td>303685.00</td>\n",
       "      <td>E</td>\n",
       "      <td>NaN</td>\n",
       "      <td>NaN</td>\n",
       "      <td>0</td>\n",
       "    </tr>\n",
       "    <tr>\n",
       "      <th>4</th>\n",
       "      <td>2015-01</td>\n",
       "      <td>Canada</td>\n",
       "      <td>2016A000011124</td>\n",
       "      <td>Total, all occupations</td>\n",
       "      <td>Full-time</td>\n",
       "      <td>Proportion of job vacancies</td>\n",
       "      <td>Percentage</td>\n",
       "      <td>242</td>\n",
       "      <td>units</td>\n",
       "      <td>0</td>\n",
       "      <td>v104496275</td>\n",
       "      <td>1.1.2.2</td>\n",
       "      <td>74.40</td>\n",
       "      <td>D</td>\n",
       "      <td>NaN</td>\n",
       "      <td>NaN</td>\n",
       "      <td>1</td>\n",
       "    </tr>\n",
       "  </tbody>\n",
       "</table>\n",
       "</div>"
      ],
      "text/plain": [
       "  REF_DATE     GEO           DGUID National Occupational Classification  \\\n",
       "0  2015-01  Canada  2016A000011124               Total, all occupations   \n",
       "1  2015-01  Canada  2016A000011124               Total, all occupations   \n",
       "2  2015-01  Canada  2016A000011124               Total, all occupations   \n",
       "3  2015-01  Canada  2016A000011124               Total, all occupations   \n",
       "4  2015-01  Canada  2016A000011124               Total, all occupations   \n",
       "\n",
       "  Job vacancy characteristics                   Statistics         UOM  \\\n",
       "0     Type of work, all types                Job vacancies      Number   \n",
       "1     Type of work, all types  Proportion of job vacancies  Percentage   \n",
       "2     Type of work, all types  Average offered hourly wage     Dollars   \n",
       "3                   Full-time                Job vacancies      Number   \n",
       "4                   Full-time  Proportion of job vacancies  Percentage   \n",
       "\n",
       "   UOM_ID SCALAR_FACTOR  SCALAR_ID      VECTOR COORDINATE      VALUE STATUS  \\\n",
       "0     223         units          0  v104496271    1.1.1.1  408125.00      E   \n",
       "1     242         units          0  v104496272    1.1.1.2     100.00    NaN   \n",
       "2      81         units          0  v104496273    1.1.1.5      19.15      D   \n",
       "3     223         units          0  v104496274    1.1.2.1  303685.00      E   \n",
       "4     242         units          0  v104496275    1.1.2.2      74.40      D   \n",
       "\n",
       "   SYMBOL TERMINATED  DECIMALS  \n",
       "0     NaN        NaN         0  \n",
       "1     NaN        NaN         1  \n",
       "2     NaN        NaN         2  \n",
       "3     NaN        NaN         0  \n",
       "4     NaN        NaN         1  "
      ]
     },
     "execution_count": 3,
     "metadata": {},
     "output_type": "execute_result"
    }
   ],
   "source": [
    "data_df= pd.read_csv('14100328.csv',low_memory=False)\n",
    "data_df.head()"
   ]
  },
  {
   "cell_type": "code",
   "execution_count": 4,
   "id": "1b964595",
   "metadata": {},
   "outputs": [
    {
     "name": "stdout",
     "output_type": "stream",
     "text": [
      "<class 'pandas.core.frame.DataFrame'>\n",
      "RangeIndex: 27338080 entries, 0 to 27338079\n",
      "Data columns (total 17 columns):\n",
      " #   Column                                Dtype  \n",
      "---  ------                                -----  \n",
      " 0   REF_DATE                              object \n",
      " 1   GEO                                   object \n",
      " 2   DGUID                                 object \n",
      " 3   National Occupational Classification  object \n",
      " 4   Job vacancy characteristics           object \n",
      " 5   Statistics                            object \n",
      " 6   UOM                                   object \n",
      " 7   UOM_ID                                int64  \n",
      " 8   SCALAR_FACTOR                         object \n",
      " 9   SCALAR_ID                             int64  \n",
      " 10  VECTOR                                object \n",
      " 11  COORDINATE                            object \n",
      " 12  VALUE                                 float64\n",
      " 13  STATUS                                object \n",
      " 14  SYMBOL                                float64\n",
      " 15  TERMINATED                            object \n",
      " 16  DECIMALS                              int64  \n",
      "dtypes: float64(2), int64(3), object(12)\n",
      "memory usage: 3.5+ GB\n"
     ]
    }
   ],
   "source": [
    "data_df.info()"
   ]
  },
  {
   "cell_type": "code",
   "execution_count": 5,
   "id": "31c6c0fe",
   "metadata": {},
   "outputs": [
    {
     "data": {
      "text/plain": [
       "Job vacancies                  10036768\n",
       "Proportion of job vacancies     9822176\n",
       "Average offered hourly wage     7479136\n",
       "Name: Statistics, dtype: int64"
      ]
     },
     "execution_count": 5,
     "metadata": {},
     "output_type": "execute_result"
    }
   ],
   "source": [
    "data_df.Statistics.value_counts()"
   ]
  },
  {
   "cell_type": "code",
   "execution_count": 22,
   "id": "b7489b00",
   "metadata": {},
   "outputs": [],
   "source": [
    "noc = data_df['National Occupational Classification'].value_counts()"
   ]
  },
  {
   "cell_type": "code",
   "execution_count": 31,
   "id": "89404d49",
   "metadata": {},
   "outputs": [
    {
     "data": {
      "text/html": [
       "<div>\n",
       "<style scoped>\n",
       "    .dataframe tbody tr th:only-of-type {\n",
       "        vertical-align: middle;\n",
       "    }\n",
       "\n",
       "    .dataframe tbody tr th {\n",
       "        vertical-align: top;\n",
       "    }\n",
       "\n",
       "    .dataframe thead th {\n",
       "        text-align: right;\n",
       "    }\n",
       "</style>\n",
       "<table border=\"1\" class=\"dataframe\">\n",
       "  <thead>\n",
       "    <tr style=\"text-align: right;\">\n",
       "      <th></th>\n",
       "      <th>0</th>\n",
       "      <th>1</th>\n",
       "    </tr>\n",
       "  </thead>\n",
       "  <tbody>\n",
       "    <tr>\n",
       "      <th>0</th>\n",
       "      <td>Total, all occupations</td>\n",
       "      <td>None</td>\n",
       "    </tr>\n",
       "    <tr>\n",
       "      <th>1</th>\n",
       "      <td>Total, all occupations</td>\n",
       "      <td>None</td>\n",
       "    </tr>\n",
       "    <tr>\n",
       "      <th>2</th>\n",
       "      <td>Total, all occupations</td>\n",
       "      <td>None</td>\n",
       "    </tr>\n",
       "    <tr>\n",
       "      <th>3</th>\n",
       "      <td>Total, all occupations</td>\n",
       "      <td>None</td>\n",
       "    </tr>\n",
       "    <tr>\n",
       "      <th>4</th>\n",
       "      <td>Total, all occupations</td>\n",
       "      <td>None</td>\n",
       "    </tr>\n",
       "    <tr>\n",
       "      <th>...</th>\n",
       "      <td>...</td>\n",
       "      <td>...</td>\n",
       "    </tr>\n",
       "    <tr>\n",
       "      <th>27338075</th>\n",
       "      <td>Unclassified occupations</td>\n",
       "      <td>None</td>\n",
       "    </tr>\n",
       "    <tr>\n",
       "      <th>27338076</th>\n",
       "      <td>Unclassified occupations</td>\n",
       "      <td>None</td>\n",
       "    </tr>\n",
       "    <tr>\n",
       "      <th>27338077</th>\n",
       "      <td>Unclassified occupations</td>\n",
       "      <td>None</td>\n",
       "    </tr>\n",
       "    <tr>\n",
       "      <th>27338078</th>\n",
       "      <td>Unclassified occupations</td>\n",
       "      <td>None</td>\n",
       "    </tr>\n",
       "    <tr>\n",
       "      <th>27338079</th>\n",
       "      <td>Unclassified occupations</td>\n",
       "      <td>None</td>\n",
       "    </tr>\n",
       "  </tbody>\n",
       "</table>\n",
       "<p>27338080 rows × 2 columns</p>\n",
       "</div>"
      ],
      "text/plain": [
       "                                 0     1\n",
       "0           Total, all occupations  None\n",
       "1           Total, all occupations  None\n",
       "2           Total, all occupations  None\n",
       "3           Total, all occupations  None\n",
       "4           Total, all occupations  None\n",
       "...                            ...   ...\n",
       "27338075  Unclassified occupations  None\n",
       "27338076  Unclassified occupations  None\n",
       "27338077  Unclassified occupations  None\n",
       "27338078  Unclassified occupations  None\n",
       "27338079  Unclassified occupations  None\n",
       "\n",
       "[27338080 rows x 2 columns]"
      ]
     },
     "execution_count": 31,
     "metadata": {},
     "output_type": "execute_result"
    }
   ],
   "source": [
    "noc= data_df.copy()\n",
    "noc['National Occupational Classification'].str.split(\"[\", expand=True)"
   ]
  },
  {
   "cell_type": "code",
   "execution_count": 38,
   "id": "b0e520e7",
   "metadata": {},
   "outputs": [],
   "source": [
    "noc['National Occupational Classification']= noc['National Occupational Classification'].map(lambda NOC: str(NOC.split('[')[0]))"
   ]
  },
  {
   "cell_type": "code",
   "execution_count": 45,
   "id": "60678e40",
   "metadata": {},
   "outputs": [
    {
     "data": {
      "text/html": [
       "<div>\n",
       "<style scoped>\n",
       "    .dataframe tbody tr th:only-of-type {\n",
       "        vertical-align: middle;\n",
       "    }\n",
       "\n",
       "    .dataframe tbody tr th {\n",
       "        vertical-align: top;\n",
       "    }\n",
       "\n",
       "    .dataframe thead th {\n",
       "        text-align: right;\n",
       "    }\n",
       "</style>\n",
       "<table border=\"1\" class=\"dataframe\">\n",
       "  <thead>\n",
       "    <tr style=\"text-align: right;\">\n",
       "      <th></th>\n",
       "      <th>REF_DATE</th>\n",
       "      <th>GEO</th>\n",
       "      <th>DGUID</th>\n",
       "      <th>National Occupational Classification</th>\n",
       "      <th>Job vacancy characteristics</th>\n",
       "      <th>Statistics</th>\n",
       "      <th>UOM</th>\n",
       "      <th>UOM_ID</th>\n",
       "      <th>SCALAR_FACTOR</th>\n",
       "      <th>SCALAR_ID</th>\n",
       "      <th>VECTOR</th>\n",
       "      <th>COORDINATE</th>\n",
       "      <th>VALUE</th>\n",
       "      <th>STATUS</th>\n",
       "      <th>SYMBOL</th>\n",
       "      <th>TERMINATED</th>\n",
       "      <th>DECIMALS</th>\n",
       "    </tr>\n",
       "  </thead>\n",
       "  <tbody>\n",
       "    <tr>\n",
       "      <th>0</th>\n",
       "      <td>2015-01</td>\n",
       "      <td>Canada</td>\n",
       "      <td>2016A000011124</td>\n",
       "      <td>Total, all occupations</td>\n",
       "      <td>Type of work, all types</td>\n",
       "      <td>Job vacancies</td>\n",
       "      <td>Number</td>\n",
       "      <td>223</td>\n",
       "      <td>units</td>\n",
       "      <td>0</td>\n",
       "      <td>v104496271</td>\n",
       "      <td>1.1.1.1</td>\n",
       "      <td>408125.00</td>\n",
       "      <td>E</td>\n",
       "      <td>NaN</td>\n",
       "      <td>NaN</td>\n",
       "      <td>0</td>\n",
       "    </tr>\n",
       "    <tr>\n",
       "      <th>1</th>\n",
       "      <td>2015-01</td>\n",
       "      <td>Canada</td>\n",
       "      <td>2016A000011124</td>\n",
       "      <td>Total, all occupations</td>\n",
       "      <td>Type of work, all types</td>\n",
       "      <td>Proportion of job vacancies</td>\n",
       "      <td>Percentage</td>\n",
       "      <td>242</td>\n",
       "      <td>units</td>\n",
       "      <td>0</td>\n",
       "      <td>v104496272</td>\n",
       "      <td>1.1.1.2</td>\n",
       "      <td>100.00</td>\n",
       "      <td>NaN</td>\n",
       "      <td>NaN</td>\n",
       "      <td>NaN</td>\n",
       "      <td>1</td>\n",
       "    </tr>\n",
       "    <tr>\n",
       "      <th>2</th>\n",
       "      <td>2015-01</td>\n",
       "      <td>Canada</td>\n",
       "      <td>2016A000011124</td>\n",
       "      <td>Total, all occupations</td>\n",
       "      <td>Type of work, all types</td>\n",
       "      <td>Average offered hourly wage</td>\n",
       "      <td>Dollars</td>\n",
       "      <td>81</td>\n",
       "      <td>units</td>\n",
       "      <td>0</td>\n",
       "      <td>v104496273</td>\n",
       "      <td>1.1.1.5</td>\n",
       "      <td>19.15</td>\n",
       "      <td>D</td>\n",
       "      <td>NaN</td>\n",
       "      <td>NaN</td>\n",
       "      <td>2</td>\n",
       "    </tr>\n",
       "    <tr>\n",
       "      <th>3</th>\n",
       "      <td>2015-01</td>\n",
       "      <td>Canada</td>\n",
       "      <td>2016A000011124</td>\n",
       "      <td>Total, all occupations</td>\n",
       "      <td>Full-time</td>\n",
       "      <td>Job vacancies</td>\n",
       "      <td>Number</td>\n",
       "      <td>223</td>\n",
       "      <td>units</td>\n",
       "      <td>0</td>\n",
       "      <td>v104496274</td>\n",
       "      <td>1.1.2.1</td>\n",
       "      <td>303685.00</td>\n",
       "      <td>E</td>\n",
       "      <td>NaN</td>\n",
       "      <td>NaN</td>\n",
       "      <td>0</td>\n",
       "    </tr>\n",
       "    <tr>\n",
       "      <th>4</th>\n",
       "      <td>2015-01</td>\n",
       "      <td>Canada</td>\n",
       "      <td>2016A000011124</td>\n",
       "      <td>Total, all occupations</td>\n",
       "      <td>Full-time</td>\n",
       "      <td>Proportion of job vacancies</td>\n",
       "      <td>Percentage</td>\n",
       "      <td>242</td>\n",
       "      <td>units</td>\n",
       "      <td>0</td>\n",
       "      <td>v104496275</td>\n",
       "      <td>1.1.2.2</td>\n",
       "      <td>74.40</td>\n",
       "      <td>D</td>\n",
       "      <td>NaN</td>\n",
       "      <td>NaN</td>\n",
       "      <td>1</td>\n",
       "    </tr>\n",
       "  </tbody>\n",
       "</table>\n",
       "</div>"
      ],
      "text/plain": [
       "  REF_DATE     GEO           DGUID National Occupational Classification  \\\n",
       "0  2015-01  Canada  2016A000011124               Total, all occupations   \n",
       "1  2015-01  Canada  2016A000011124               Total, all occupations   \n",
       "2  2015-01  Canada  2016A000011124               Total, all occupations   \n",
       "3  2015-01  Canada  2016A000011124               Total, all occupations   \n",
       "4  2015-01  Canada  2016A000011124               Total, all occupations   \n",
       "\n",
       "  Job vacancy characteristics                   Statistics         UOM  \\\n",
       "0     Type of work, all types                Job vacancies      Number   \n",
       "1     Type of work, all types  Proportion of job vacancies  Percentage   \n",
       "2     Type of work, all types  Average offered hourly wage     Dollars   \n",
       "3                   Full-time                Job vacancies      Number   \n",
       "4                   Full-time  Proportion of job vacancies  Percentage   \n",
       "\n",
       "   UOM_ID SCALAR_FACTOR  SCALAR_ID      VECTOR COORDINATE      VALUE STATUS  \\\n",
       "0     223         units          0  v104496271    1.1.1.1  408125.00      E   \n",
       "1     242         units          0  v104496272    1.1.1.2     100.00    NaN   \n",
       "2      81         units          0  v104496273    1.1.1.5      19.15      D   \n",
       "3     223         units          0  v104496274    1.1.2.1  303685.00      E   \n",
       "4     242         units          0  v104496275    1.1.2.2      74.40      D   \n",
       "\n",
       "   SYMBOL TERMINATED  DECIMALS  \n",
       "0     NaN        NaN         0  \n",
       "1     NaN        NaN         1  \n",
       "2     NaN        NaN         2  \n",
       "3     NaN        NaN         0  \n",
       "4     NaN        NaN         1  "
      ]
     },
     "execution_count": 45,
     "metadata": {},
     "output_type": "execute_result"
    }
   ],
   "source": [
    "noc.head(5)"
   ]
  },
  {
   "cell_type": "code",
   "execution_count": 41,
   "id": "c531ae8f",
   "metadata": {},
   "outputs": [
    {
     "data": {
      "text/plain": [
       "REF_DATE                                 object\n",
       "GEO                                      object\n",
       "DGUID                                    object\n",
       "National Occupational Classification     object\n",
       "Job vacancy characteristics              object\n",
       "Statistics                               object\n",
       "UOM                                      object\n",
       "UOM_ID                                    int64\n",
       "SCALAR_FACTOR                            object\n",
       "SCALAR_ID                                 int64\n",
       "VECTOR                                   object\n",
       "COORDINATE                               object\n",
       "VALUE                                   float64\n",
       "STATUS                                   object\n",
       "SYMBOL                                  float64\n",
       "TERMINATED                               object\n",
       "DECIMALS                                  int64\n",
       "dtype: object"
      ]
     },
     "execution_count": 41,
     "metadata": {},
     "output_type": "execute_result"
    }
   ],
   "source": [
    "noc.dtypes"
   ]
  },
  {
   "cell_type": "code",
   "execution_count": 33,
   "id": "7cf89bdd",
   "metadata": {},
   "outputs": [
    {
     "name": "stdout",
     "output_type": "stream",
     "text": [
      "<class 'pandas.core.frame.DataFrame'>\n",
      "RangeIndex: 27338080 entries, 0 to 27338079\n",
      "Data columns (total 17 columns):\n",
      " #   Column                                Dtype  \n",
      "---  ------                                -----  \n",
      " 0   REF_DATE                              object \n",
      " 1   GEO                                   object \n",
      " 2   DGUID                                 object \n",
      " 3   National Occupational Classification  object \n",
      " 4   Job vacancy characteristics           object \n",
      " 5   Statistics                            object \n",
      " 6   UOM                                   object \n",
      " 7   UOM_ID                                int64  \n",
      " 8   SCALAR_FACTOR                         object \n",
      " 9   SCALAR_ID                             int64  \n",
      " 10  VECTOR                                object \n",
      " 11  COORDINATE                            object \n",
      " 12  VALUE                                 float64\n",
      " 13  STATUS                                object \n",
      " 14  SYMBOL                                float64\n",
      " 15  TERMINATED                            object \n",
      " 16  DECIMALS                              int64  \n",
      "dtypes: float64(2), int64(3), object(12)\n",
      "memory usage: 3.5+ GB\n"
     ]
    }
   ],
   "source": [
    "noc.info()"
   ]
  },
  {
   "cell_type": "code",
   "execution_count": 11,
   "id": "cbabde6a",
   "metadata": {},
   "outputs": [
    {
     "data": {
      "text/plain": [
       "1 year to less than 3 years                                             697536\n",
       "120 days or more                                                        116256\n",
       "15 to 29 days                                                           697536\n",
       "3 years to less than 5 years                                            697536\n",
       "30 to 59 days                                                           697536\n",
       "5 years to less than 8 years                                            697536\n",
       "60 to 89 days                                                           697536\n",
       "8 years or more                                                         697536\n",
       "90 days or more                                                         697536\n",
       "90 to 119 days                                                          116256\n",
       "A professional or other type of certification is required               581280\n",
       "Bachelor's degree                                                       697536\n",
       "Certification requirement, all types                                    550624\n",
       "College, CEGEP and other non-university certificate or diploma          697536\n",
       "Company website                                                         465024\n",
       "Constantly recruiting                                                   697536\n",
       "Continuity of recruitment, all categories                               116256\n",
       "Duration of job vacancy, all durations                                  666880\n",
       "Full-time                                                               697536\n",
       "Government employment centre or website                                 465024\n",
       "High school diploma or equivalent                                       697536\n",
       "Job or recruitment fairs at schools, colleges or universities           465024\n",
       "Less than 1 year                                                        697536\n",
       "Less than 15 days                                                       697536\n",
       "Minimum experience level sought, all levels                             666880\n",
       "Minimum level of education required, all levels                         666880\n",
       "Newspaper ads                                                           465024\n",
       "No minimum level of education required                                  697536\n",
       "No professional or other type of certification required                 581280\n",
       "Non-university certificate or diploma                                   697536\n",
       "Not constantly recruiting                                               116256\n",
       "Online job boards                                                       465024\n",
       "Other recruitment strategies                                            465024\n",
       "Part-time                                                               697536\n",
       "Permanent                                                               697536\n",
       "Personal contacts, referrals, informal networks                         465024\n",
       "Posting a \"help-wanted\" sign on the storefront of the location          465024\n",
       "Professional networking, headhunters or employment agency               465024\n",
       "Recruitment strategies, all types                                       434368\n",
       "Seasonal                                                                697536\n",
       "Social media                                                            465024\n",
       "Temporary (seasonal and non-seasonal)                                   697536\n",
       "Trade certificate or diploma, or apprenticeship certificate             697536\n",
       "Type of position, all types                                             666880\n",
       "Type of work, all types                                                 666880\n",
       "University certificate or diploma below bachelor's level                697536\n",
       "University certificate, diploma or degree above the bachelor's level    697536\n",
       "Name: Job vacancy characteristics, dtype: int64"
      ]
     },
     "execution_count": 11,
     "metadata": {},
     "output_type": "execute_result"
    }
   ],
   "source": [
    "data_df['Job vacancy characteristics'].value_counts().sort_index(ascending=True)"
   ]
  },
  {
   "cell_type": "code",
   "execution_count": 14,
   "id": "d5029b34",
   "metadata": {},
   "outputs": [
    {
     "data": {
      "text/plain": [
       "..    11028069\n",
       "x      5380011\n",
       "F      4070335\n",
       "A      1186813\n",
       "D      1173461\n",
       "E      1024978\n",
       "B       802533\n",
       "C       625127\n",
       "Name: STATUS, dtype: int64"
      ]
     },
     "execution_count": 14,
     "metadata": {},
     "output_type": "execute_result"
    }
   ],
   "source": [
    "data_df['STATUS'].value_counts()"
   ]
  },
  {
   "cell_type": "code",
   "execution_count": 16,
   "id": "8a39aa30",
   "metadata": {},
   "outputs": [
    {
     "data": {
      "text/plain": [
       "2015-01    1143184\n",
       "2015-04    1143184\n",
       "2015-07    1143184\n",
       "2015-10    1143184\n",
       "2016-01    1143184\n",
       "2016-04    1143184\n",
       "2016-07    1143184\n",
       "2016-10    1143184\n",
       "2017-01    1143184\n",
       "2017-04    1143184\n",
       "2017-07    1143184\n",
       "2017-10    1117970\n",
       "2018-01    1118635\n",
       "2018-04    1119629\n",
       "2018-07    1120077\n",
       "2018-10    1118810\n",
       "2019-01    1119265\n",
       "2019-04    1120553\n",
       "2019-07    1119895\n",
       "2019-10    1119230\n",
       "2020-01    1172248\n",
       "2020-10    1172248\n",
       "2021-01    1172248\n",
       "2021-04    1172248\n",
       "Name: REF_DATE, dtype: int64"
      ]
     },
     "execution_count": 16,
     "metadata": {},
     "output_type": "execute_result"
    }
   ],
   "source": [
    "data_df['REF_DATE'].value_counts().sort_index(ascending=True)"
   ]
  },
  {
   "cell_type": "code",
   "execution_count": 17,
   "id": "80e8a079",
   "metadata": {},
   "outputs": [
    {
     "data": {
      "text/plain": [
       "<bound method IndexOpsMixin.value_counts of 0              1.1.1.1\n",
       "1              1.1.1.2\n",
       "2              1.1.1.5\n",
       "3              1.1.2.1\n",
       "4              1.1.2.2\n",
       "               ...    \n",
       "27338075    14.12.42.2\n",
       "27338076    14.12.43.1\n",
       "27338077    14.12.43.2\n",
       "27338078    14.12.44.1\n",
       "27338079    14.12.44.2\n",
       "Name: COORDINATE, Length: 27338080, dtype: object>"
      ]
     },
     "execution_count": 17,
     "metadata": {},
     "output_type": "execute_result"
    }
   ],
   "source": [
    "data_df['COORDINATE'].value_counts"
   ]
  },
  {
   "cell_type": "code",
   "execution_count": 18,
   "id": "1791191f",
   "metadata": {},
   "outputs": [
    {
     "data": {
      "text/plain": [
       "Canada                       1967467\n",
       "Ontario                      1965584\n",
       "Quebec                       1964940\n",
       "British Columbia             1964009\n",
       "Alberta                      1962077\n",
       "Manitoba                     1956799\n",
       "Saskatchewan                 1954265\n",
       "Nova Scotia                  1954041\n",
       "New Brunswick                1952221\n",
       "Newfoundland and Labrador    1948525\n",
       "Prince Edward Island         1938900\n",
       "Northwest Territories        1937206\n",
       "Yukon                        1937164\n",
       "Nunavut                      1934882\n",
       "Name: GEO, dtype: int64"
      ]
     },
     "execution_count": 18,
     "metadata": {},
     "output_type": "execute_result"
    }
   ],
   "source": [
    "data_df[\"GEO\"].value_counts()"
   ]
  },
  {
   "cell_type": "code",
   "execution_count": 19,
   "id": "a49cbb64",
   "metadata": {},
   "outputs": [
    {
     "data": {
      "text/plain": [
       "v104539190     24\n",
       "v104821748     24\n",
       "v105284080     24\n",
       "v105654451     24\n",
       "v105092011     24\n",
       "               ..\n",
       "v1230823399     4\n",
       "v1230881447     4\n",
       "v1230878352     4\n",
       "v1230827124     4\n",
       "v1230814499     4\n",
       "Name: VECTOR, Length: 1288504, dtype: int64"
      ]
     },
     "execution_count": 19,
     "metadata": {},
     "output_type": "execute_result"
    }
   ],
   "source": [
    "data_df['VECTOR'].value_counts()"
   ]
  },
  {
   "cell_type": "code",
   "execution_count": 20,
   "id": "149e829e",
   "metadata": {},
   "outputs": [
    {
     "data": {
      "text/plain": [
       "t    2294464\n",
       "Name: TERMINATED, dtype: int64"
      ]
     },
     "execution_count": 20,
     "metadata": {},
     "output_type": "execute_result"
    }
   ],
   "source": [
    "data_df['TERMINATED'].value_counts()"
   ]
  },
  {
   "cell_type": "code",
   "execution_count": 21,
   "id": "0d9ca485",
   "metadata": {},
   "outputs": [
    {
     "data": {
      "text/plain": [
       "0    10036768\n",
       "1     9822176\n",
       "2     7479136\n",
       "Name: DECIMALS, dtype: int64"
      ]
     },
     "execution_count": 21,
     "metadata": {},
     "output_type": "execute_result"
    }
   ],
   "source": [
    "data_df['DECIMALS'].value_counts()"
   ]
  },
  {
   "cell_type": "code",
   "execution_count": null,
   "id": "82bd3f84",
   "metadata": {},
   "outputs": [],
   "source": []
  }
 ],
 "metadata": {
  "kernelspec": {
   "display_name": "mlenv",
   "language": "python",
   "name": "mlenv"
  },
  "language_info": {
   "codemirror_mode": {
    "name": "ipython",
    "version": 3
   },
   "file_extension": ".py",
   "mimetype": "text/x-python",
   "name": "python",
   "nbconvert_exporter": "python",
   "pygments_lexer": "ipython3",
   "version": "3.7.10"
  }
 },
 "nbformat": 4,
 "nbformat_minor": 5
}
