{
 "cells": [
  {
   "cell_type": "code",
   "execution_count": 1,
   "id": "da4c982d",
   "metadata": {
    "id": "da4c982d"
   },
   "outputs": [],
   "source": [
    "import pandas as pd"
   ]
  },
  {
   "cell_type": "code",
   "execution_count": 3,
   "id": "bfe7ccfa",
   "metadata": {
    "id": "bfe7ccfa",
    "outputId": "e30d7957-d92d-443f-df2d-c7543fbfef5d"
   },
   "outputs": [
    {
     "name": "stderr",
     "output_type": "stream",
     "text": [
      "/Users/oi/opt/anaconda3/lib/python3.8/site-packages/IPython/core/interactiveshell.py:3165: DtypeWarning: Columns (15) have mixed types.Specify dtype option on import or set low_memory=False.\n",
      "  has_raised = await self.run_ast_nodes(code_ast.body, cell_name,\n"
     ]
    },
    {
     "data": {
      "text/html": [
       "<div>\n",
       "<style scoped>\n",
       "    .dataframe tbody tr th:only-of-type {\n",
       "        vertical-align: middle;\n",
       "    }\n",
       "\n",
       "    .dataframe tbody tr th {\n",
       "        vertical-align: top;\n",
       "    }\n",
       "\n",
       "    .dataframe thead th {\n",
       "        text-align: right;\n",
       "    }\n",
       "</style>\n",
       "<table border=\"1\" class=\"dataframe\">\n",
       "  <thead>\n",
       "    <tr style=\"text-align: right;\">\n",
       "      <th></th>\n",
       "      <th>REF_DATE</th>\n",
       "      <th>GEO</th>\n",
       "      <th>DGUID</th>\n",
       "      <th>National Occupational Classification</th>\n",
       "      <th>Job vacancy characteristics</th>\n",
       "      <th>Statistics</th>\n",
       "      <th>UOM</th>\n",
       "      <th>UOM_ID</th>\n",
       "      <th>SCALAR_FACTOR</th>\n",
       "      <th>SCALAR_ID</th>\n",
       "      <th>VECTOR</th>\n",
       "      <th>COORDINATE</th>\n",
       "      <th>VALUE</th>\n",
       "      <th>STATUS</th>\n",
       "      <th>SYMBOL</th>\n",
       "      <th>TERMINATED</th>\n",
       "      <th>DECIMALS</th>\n",
       "    </tr>\n",
       "  </thead>\n",
       "  <tbody>\n",
       "    <tr>\n",
       "      <th>21326498</th>\n",
       "      <td>2019-07</td>\n",
       "      <td>Yukon</td>\n",
       "      <td>2016A000260</td>\n",
       "      <td>Other assisting occupations in support of heal...</td>\n",
       "      <td>Social media</td>\n",
       "      <td>Proportion of job vacancies</td>\n",
       "      <td>Percentage</td>\n",
       "      <td>242</td>\n",
       "      <td>units</td>\n",
       "      <td>0</td>\n",
       "      <td>v105537470</td>\n",
       "      <td>12.392.39.2</td>\n",
       "      <td>NaN</td>\n",
       "      <td>..</td>\n",
       "      <td>NaN</td>\n",
       "      <td>NaN</td>\n",
       "      <td>1</td>\n",
       "    </tr>\n",
       "    <tr>\n",
       "      <th>8790663</th>\n",
       "      <td>2016-10</td>\n",
       "      <td>Alberta</td>\n",
       "      <td>2016A000248</td>\n",
       "      <td>Other service support and related occupations,...</td>\n",
       "      <td>High school diploma or equivalent</td>\n",
       "      <td>Average offered hourly wage</td>\n",
       "      <td>Dollars</td>\n",
       "      <td>81</td>\n",
       "      <td>units</td>\n",
       "      <td>0</td>\n",
       "      <td>v105378180</td>\n",
       "      <td>10.147.6.5</td>\n",
       "      <td>14.60</td>\n",
       "      <td>A</td>\n",
       "      <td>NaN</td>\n",
       "      <td>NaN</td>\n",
       "      <td>2</td>\n",
       "    </tr>\n",
       "    <tr>\n",
       "      <th>11865110</th>\n",
       "      <td>2017-07</td>\n",
       "      <td>Quebec</td>\n",
       "      <td>2016A000224</td>\n",
       "      <td>Other technical inspectors and regulatory offi...</td>\n",
       "      <td>Temporary (seasonal and non-seasonal)</td>\n",
       "      <td>Average offered hourly wage</td>\n",
       "      <td>Dollars</td>\n",
       "      <td>81</td>\n",
       "      <td>units</td>\n",
       "      <td>0</td>\n",
       "      <td>v104980938</td>\n",
       "      <td>6.97.32.5</td>\n",
       "      <td>23.95</td>\n",
       "      <td>B</td>\n",
       "      <td>NaN</td>\n",
       "      <td>NaN</td>\n",
       "      <td>2</td>\n",
       "    </tr>\n",
       "    <tr>\n",
       "      <th>26612951</th>\n",
       "      <td>2021-04</td>\n",
       "      <td>Quebec</td>\n",
       "      <td>2016A000224</td>\n",
       "      <td>Dentists [3113]</td>\n",
       "      <td>College, CEGEP and other non-university certif...</td>\n",
       "      <td>Job vacancies</td>\n",
       "      <td>Number</td>\n",
       "      <td>223</td>\n",
       "      <td>units</td>\n",
       "      <td>0</td>\n",
       "      <td>v104984035</td>\n",
       "      <td>6.361.9.1</td>\n",
       "      <td>NaN</td>\n",
       "      <td>x</td>\n",
       "      <td>NaN</td>\n",
       "      <td>NaN</td>\n",
       "      <td>0</td>\n",
       "    </tr>\n",
       "    <tr>\n",
       "      <th>15417186</th>\n",
       "      <td>2018-04</td>\n",
       "      <td>Manitoba</td>\n",
       "      <td>2016A000246</td>\n",
       "      <td>Athletes [5251]</td>\n",
       "      <td>Minimum experience level sought, all levels</td>\n",
       "      <td>Job vacancies</td>\n",
       "      <td>Number</td>\n",
       "      <td>223</td>\n",
       "      <td>units</td>\n",
       "      <td>0</td>\n",
       "      <td>v105184567</td>\n",
       "      <td>8.460.17.1</td>\n",
       "      <td>NaN</td>\n",
       "      <td>..</td>\n",
       "      <td>NaN</td>\n",
       "      <td>NaN</td>\n",
       "      <td>0</td>\n",
       "    </tr>\n",
       "  </tbody>\n",
       "</table>\n",
       "</div>"
      ],
      "text/plain": [
       "         REF_DATE       GEO        DGUID  \\\n",
       "21326498  2019-07     Yukon  2016A000260   \n",
       "8790663   2016-10   Alberta  2016A000248   \n",
       "11865110  2017-07    Quebec  2016A000224   \n",
       "26612951  2021-04    Quebec  2016A000224   \n",
       "15417186  2018-04  Manitoba  2016A000246   \n",
       "\n",
       "                       National Occupational Classification  \\\n",
       "21326498  Other assisting occupations in support of heal...   \n",
       "8790663   Other service support and related occupations,...   \n",
       "11865110  Other technical inspectors and regulatory offi...   \n",
       "26612951                                    Dentists [3113]   \n",
       "15417186                                    Athletes [5251]   \n",
       "\n",
       "                                Job vacancy characteristics  \\\n",
       "21326498                                       Social media   \n",
       "8790663                   High school diploma or equivalent   \n",
       "11865110              Temporary (seasonal and non-seasonal)   \n",
       "26612951  College, CEGEP and other non-university certif...   \n",
       "15417186        Minimum experience level sought, all levels   \n",
       "\n",
       "                           Statistics         UOM  UOM_ID SCALAR_FACTOR  \\\n",
       "21326498  Proportion of job vacancies  Percentage     242         units   \n",
       "8790663   Average offered hourly wage     Dollars      81         units   \n",
       "11865110  Average offered hourly wage     Dollars      81         units   \n",
       "26612951                Job vacancies      Number     223         units   \n",
       "15417186                Job vacancies      Number     223         units   \n",
       "\n",
       "          SCALAR_ID      VECTOR   COORDINATE  VALUE STATUS  SYMBOL TERMINATED  \\\n",
       "21326498          0  v105537470  12.392.39.2    NaN     ..     NaN        NaN   \n",
       "8790663           0  v105378180   10.147.6.5  14.60      A     NaN        NaN   \n",
       "11865110          0  v104980938    6.97.32.5  23.95      B     NaN        NaN   \n",
       "26612951          0  v104984035    6.361.9.1    NaN      x     NaN        NaN   \n",
       "15417186          0  v105184567   8.460.17.1    NaN     ..     NaN        NaN   \n",
       "\n",
       "          DECIMALS  \n",
       "21326498         1  \n",
       "8790663          2  \n",
       "11865110         2  \n",
       "26612951         0  \n",
       "15417186         0  "
      ]
     },
     "execution_count": 3,
     "metadata": {},
     "output_type": "execute_result"
    }
   ],
   "source": [
    "# Read \n",
    "file_path = \"../Resources/14100328.csv\"\n",
    "df = pd.read_csv(file_path, error_bad_lines=False)\n",
    "df.sample(n=5)"
   ]
  },
  {
   "cell_type": "code",
   "execution_count": 4,
   "id": "11eaa027",
   "metadata": {
    "id": "11eaa027",
    "outputId": "5b4e2d3e-0a3a-4850-8e43-c47bdf8fa755"
   },
   "outputs": [],
   "source": [
    "# df.head()"
   ]
  },
  {
   "cell_type": "code",
   "execution_count": 5,
   "id": "27c83c73",
   "metadata": {
    "id": "27c83c73"
   },
   "outputs": [],
   "source": [
    "df2 = df.loc[(df['STATUS'] == 'A')|(df['STATUS'] == 'B')|(df['STATUS'] == 'C')|(df['STATUS'] == 'D')]"
   ]
  },
  {
   "cell_type": "code",
   "execution_count": 6,
   "id": "a51fcddb",
   "metadata": {
    "id": "a51fcddb",
    "outputId": "a911365b-2f0a-45c5-b1d7-3a3778abcade"
   },
   "outputs": [
    {
     "data": {
      "text/plain": [
       "array(['2015-01', '2015-04', '2015-07', '2015-10', '2016-01', '2016-04',\n",
       "       '2016-07', '2016-10', '2017-01', '2017-04', '2017-07', '2017-10',\n",
       "       '2018-01', '2018-04', '2018-07', '2018-10', '2019-01', '2019-04',\n",
       "       '2019-07', '2019-10', '2020-01', '2020-10', '2021-01', '2021-04'],\n",
       "      dtype=object)"
      ]
     },
     "execution_count": 6,
     "metadata": {},
     "output_type": "execute_result"
    }
   ],
   "source": [
    "df2['REF_DATE'].unique()"
   ]
  },
  {
   "cell_type": "code",
   "execution_count": 7,
   "id": "dd600fe5",
   "metadata": {
    "id": "dd600fe5"
   },
   "outputs": [],
   "source": [
    "df2 = df2.drop(df2[(df2['REF_DATE'] == '2020-01')|(df2['REF_DATE'] == '2020-10')|(df2['REF_DATE'] == '2021-01')|(df2['REF_DATE'] == '2021-04')|(df2['REF_DATE'] == '2015-01')].index)"
   ]
  },
  {
   "cell_type": "code",
   "execution_count": 8,
   "id": "deb14385",
   "metadata": {
    "id": "deb14385",
    "outputId": "7b94bffc-77c0-42b1-afc5-465b9d525dc0"
   },
   "outputs": [
    {
     "data": {
      "text/plain": [
       "array(['2015-04', '2015-07', '2015-10', '2016-01', '2016-04', '2016-07',\n",
       "       '2016-10', '2017-01', '2017-04', '2017-07', '2017-10', '2018-01',\n",
       "       '2018-04', '2018-07', '2018-10', '2019-01', '2019-04', '2019-07',\n",
       "       '2019-10'], dtype=object)"
      ]
     },
     "execution_count": 8,
     "metadata": {},
     "output_type": "execute_result"
    }
   ],
   "source": [
    "df2['REF_DATE'].unique()"
   ]
  },
  {
   "cell_type": "code",
   "execution_count": 9,
   "id": "544fdf0e",
   "metadata": {
    "id": "544fdf0e",
    "outputId": "ccc23b22-67df-4a84-8eca-365683011dc0"
   },
   "outputs": [
    {
     "name": "stdout",
     "output_type": "stream",
     "text": [
      "<class 'pandas.core.frame.DataFrame'>\n",
      "Int64Index: 3126034 entries, 1143184 to 22639128\n",
      "Data columns (total 17 columns):\n",
      " #   Column                                Dtype  \n",
      "---  ------                                -----  \n",
      " 0   REF_DATE                              object \n",
      " 1   GEO                                   object \n",
      " 2   DGUID                                 object \n",
      " 3   National Occupational Classification  object \n",
      " 4   Job vacancy characteristics           object \n",
      " 5   Statistics                            object \n",
      " 6   UOM                                   object \n",
      " 7   UOM_ID                                int64  \n",
      " 8   SCALAR_FACTOR                         object \n",
      " 9   SCALAR_ID                             int64  \n",
      " 10  VECTOR                                object \n",
      " 11  COORDINATE                            object \n",
      " 12  VALUE                                 float64\n",
      " 13  STATUS                                object \n",
      " 14  SYMBOL                                float64\n",
      " 15  TERMINATED                            object \n",
      " 16  DECIMALS                              int64  \n",
      "dtypes: float64(2), int64(3), object(12)\n",
      "memory usage: 429.3+ MB\n"
     ]
    }
   ],
   "source": [
    "df2.info()"
   ]
  },
  {
   "cell_type": "code",
   "execution_count": 10,
   "id": "5ba09622",
   "metadata": {
    "id": "5ba09622"
   },
   "outputs": [],
   "source": [
    "df2 = df2.reset_index(drop=True)"
   ]
  },
  {
   "cell_type": "code",
   "execution_count": 11,
   "id": "fdbe70d4",
   "metadata": {
    "id": "fdbe70d4",
    "outputId": "f4a1e622-5197-44ee-ae69-fbecf64ae672"
   },
   "outputs": [
    {
     "name": "stdout",
     "output_type": "stream",
     "text": [
      "<class 'pandas.core.frame.DataFrame'>\n",
      "RangeIndex: 3126034 entries, 0 to 3126033\n",
      "Data columns (total 17 columns):\n",
      " #   Column                                Dtype  \n",
      "---  ------                                -----  \n",
      " 0   REF_DATE                              object \n",
      " 1   GEO                                   object \n",
      " 2   DGUID                                 object \n",
      " 3   National Occupational Classification  object \n",
      " 4   Job vacancy characteristics           object \n",
      " 5   Statistics                            object \n",
      " 6   UOM                                   object \n",
      " 7   UOM_ID                                int64  \n",
      " 8   SCALAR_FACTOR                         object \n",
      " 9   SCALAR_ID                             int64  \n",
      " 10  VECTOR                                object \n",
      " 11  COORDINATE                            object \n",
      " 12  VALUE                                 float64\n",
      " 13  STATUS                                object \n",
      " 14  SYMBOL                                float64\n",
      " 15  TERMINATED                            object \n",
      " 16  DECIMALS                              int64  \n",
      "dtypes: float64(2), int64(3), object(12)\n",
      "memory usage: 405.4+ MB\n"
     ]
    }
   ],
   "source": [
    "df2.info()"
   ]
  },
  {
   "cell_type": "code",
   "execution_count": 12,
   "id": "6212f112",
   "metadata": {
    "id": "6212f112"
   },
   "outputs": [],
   "source": [
    "df2.to_csv('../Resources/VacanciesRawData.csv',index=False)"
   ]
  },
  {
   "cell_type": "code",
   "execution_count": null,
   "id": "ed54e4ab",
   "metadata": {},
   "outputs": [],
   "source": []
  }
 ],
 "metadata": {
  "colab": {
   "name": "RemovingRedundantData.ipynb",
   "provenance": []
  },
  "kernelspec": {
   "display_name": "PythonData",
   "language": "python",
   "name": "pythondata"
  },
  "language_info": {
   "codemirror_mode": {
    "name": "ipython",
    "version": 3
   },
   "file_extension": ".py",
   "mimetype": "text/x-python",
   "name": "python",
   "nbconvert_exporter": "python",
   "pygments_lexer": "ipython3",
   "version": "3.8.8"
  }
 },
 "nbformat": 4,
 "nbformat_minor": 5
}
