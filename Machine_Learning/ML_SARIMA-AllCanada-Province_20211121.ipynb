{
 "cells": [
  {
   "cell_type": "code",
   "execution_count": 1,
   "id": "3e82fb7e",
   "metadata": {},
   "outputs": [],
   "source": [
    "# Import dependencies\n",
    "import pandas as pd\n",
    "import datetime as dt\n",
    "import matplotlib.pyplot as plt\n",
    "import seaborn as sns \n",
    "import numpy as np\n",
    "%matplotlib inline\n",
    "from scipy.stats import norm\n",
    "import statsmodels.api as sm\n",
    "from datetime import datetime\n",
    "import requests\n",
    "from io import BytesIO\n",
    "from statsmodels.tsa.statespace.sarimax import SARIMAXResults\n",
    "\n",
    "# Importing Dependencies for DB connection\n",
    "import sqlalchemy\n",
    "from sqlalchemy.ext.automap import automap_base\n",
    "from sqlalchemy.orm import session\n",
    "from sqlalchemy import create_engine, func\n",
    "from sqlalchemy import inspect\n",
    "import config\n",
    "import psycopg2"
   ]
  },
  {
   "cell_type": "code",
   "execution_count": 2,
   "id": "80eba28f",
   "metadata": {},
   "outputs": [
    {
     "name": "stdout",
     "output_type": "stream",
     "text": [
      "Postgres Connected\n"
     ]
    }
   ],
   "source": [
    "# Establish a connection to the database\n",
    "conn = psycopg2.connect(\n",
    "    host = config.config['host'],\n",
    "    port = config.config['port'], \n",
    "    dbname = config.config['dbname'], \n",
    "    user = config.config['user'], \n",
    "    password = config.config['password'])\n",
    "\n",
    "print(\"Postgres Connected\")"
   ]
  },
  {
   "cell_type": "code",
   "execution_count": 216,
   "id": "ddccf58d",
   "metadata": {},
   "outputs": [
    {
     "data": {
      "text/html": [
       "<div>\n",
       "<style scoped>\n",
       "    .dataframe tbody tr th:only-of-type {\n",
       "        vertical-align: middle;\n",
       "    }\n",
       "\n",
       "    .dataframe tbody tr th {\n",
       "        vertical-align: top;\n",
       "    }\n",
       "\n",
       "    .dataframe thead th {\n",
       "        text-align: right;\n",
       "    }\n",
       "</style>\n",
       "<table border=\"1\" class=\"dataframe\">\n",
       "  <thead>\n",
       "    <tr style=\"text-align: right;\">\n",
       "      <th></th>\n",
       "      <th>ref_date</th>\n",
       "      <th>total_vacancies</th>\n",
       "    </tr>\n",
       "  </thead>\n",
       "  <tbody>\n",
       "    <tr>\n",
       "      <th>0</th>\n",
       "      <td>2015-04-01</td>\n",
       "      <td>451925.0</td>\n",
       "    </tr>\n",
       "    <tr>\n",
       "      <th>1</th>\n",
       "      <td>2015-07-01</td>\n",
       "      <td>407865.0</td>\n",
       "    </tr>\n",
       "    <tr>\n",
       "      <th>2</th>\n",
       "      <td>2015-10-01</td>\n",
       "      <td>358755.0</td>\n",
       "    </tr>\n",
       "    <tr>\n",
       "      <th>3</th>\n",
       "      <td>2016-01-01</td>\n",
       "      <td>330215.0</td>\n",
       "    </tr>\n",
       "    <tr>\n",
       "      <th>4</th>\n",
       "      <td>2016-04-01</td>\n",
       "      <td>391190.0</td>\n",
       "    </tr>\n",
       "    <tr>\n",
       "      <th>5</th>\n",
       "      <td>2016-07-01</td>\n",
       "      <td>404860.0</td>\n",
       "    </tr>\n",
       "    <tr>\n",
       "      <th>6</th>\n",
       "      <td>2016-10-01</td>\n",
       "      <td>381010.0</td>\n",
       "    </tr>\n",
       "    <tr>\n",
       "      <th>7</th>\n",
       "      <td>2017-01-01</td>\n",
       "      <td>387080.0</td>\n",
       "    </tr>\n",
       "    <tr>\n",
       "      <th>8</th>\n",
       "      <td>2017-04-01</td>\n",
       "      <td>459685.0</td>\n",
       "    </tr>\n",
       "    <tr>\n",
       "      <th>9</th>\n",
       "      <td>2017-07-01</td>\n",
       "      <td>467395.0</td>\n",
       "    </tr>\n",
       "    <tr>\n",
       "      <th>10</th>\n",
       "      <td>2017-10-01</td>\n",
       "      <td>469360.0</td>\n",
       "    </tr>\n",
       "    <tr>\n",
       "      <th>11</th>\n",
       "      <td>2018-01-01</td>\n",
       "      <td>461845.0</td>\n",
       "    </tr>\n",
       "    <tr>\n",
       "      <th>12</th>\n",
       "      <td>2018-04-01</td>\n",
       "      <td>546820.0</td>\n",
       "    </tr>\n",
       "    <tr>\n",
       "      <th>13</th>\n",
       "      <td>2018-07-01</td>\n",
       "      <td>550670.0</td>\n",
       "    </tr>\n",
       "    <tr>\n",
       "      <th>14</th>\n",
       "      <td>2018-10-01</td>\n",
       "      <td>547330.0</td>\n",
       "    </tr>\n",
       "    <tr>\n",
       "      <th>15</th>\n",
       "      <td>2019-01-01</td>\n",
       "      <td>506140.0</td>\n",
       "    </tr>\n",
       "    <tr>\n",
       "      <th>16</th>\n",
       "      <td>2019-04-01</td>\n",
       "      <td>581595.0</td>\n",
       "    </tr>\n",
       "    <tr>\n",
       "      <th>17</th>\n",
       "      <td>2019-07-01</td>\n",
       "      <td>562910.0</td>\n",
       "    </tr>\n",
       "    <tr>\n",
       "      <th>18</th>\n",
       "      <td>2019-10-01</td>\n",
       "      <td>508590.0</td>\n",
       "    </tr>\n",
       "    <tr>\n",
       "      <th>19</th>\n",
       "      <td>2020-01-01</td>\n",
       "      <td>512760.0</td>\n",
       "    </tr>\n",
       "    <tr>\n",
       "      <th>20</th>\n",
       "      <td>2020-10-01</td>\n",
       "      <td>560215.0</td>\n",
       "    </tr>\n",
       "    <tr>\n",
       "      <th>21</th>\n",
       "      <td>2021-01-01</td>\n",
       "      <td>553480.0</td>\n",
       "    </tr>\n",
       "    <tr>\n",
       "      <th>22</th>\n",
       "      <td>2021-04-01</td>\n",
       "      <td>731905.0</td>\n",
       "    </tr>\n",
       "  </tbody>\n",
       "</table>\n",
       "</div>"
      ],
      "text/plain": [
       "      ref_date  total_vacancies\n",
       "0   2015-04-01         451925.0\n",
       "1   2015-07-01         407865.0\n",
       "2   2015-10-01         358755.0\n",
       "3   2016-01-01         330215.0\n",
       "4   2016-04-01         391190.0\n",
       "5   2016-07-01         404860.0\n",
       "6   2016-10-01         381010.0\n",
       "7   2017-01-01         387080.0\n",
       "8   2017-04-01         459685.0\n",
       "9   2017-07-01         467395.0\n",
       "10  2017-10-01         469360.0\n",
       "11  2018-01-01         461845.0\n",
       "12  2018-04-01         546820.0\n",
       "13  2018-07-01         550670.0\n",
       "14  2018-10-01         547330.0\n",
       "15  2019-01-01         506140.0\n",
       "16  2019-04-01         581595.0\n",
       "17  2019-07-01         562910.0\n",
       "18  2019-10-01         508590.0\n",
       "19  2020-01-01         512760.0\n",
       "20  2020-10-01         560215.0\n",
       "21  2021-01-01         553480.0\n",
       "22  2021-04-01         731905.0"
      ]
     },
     "execution_count": 216,
     "metadata": {},
     "output_type": "execute_result"
    }
   ],
   "source": [
    "# Import Data from AWS database\n",
    "df= pd.read_sql_query('SELECT ref_date,total_vacancies FROM \"canada_vacancies\"', con=conn)\n",
    "df"
   ]
  },
  {
   "cell_type": "code",
   "execution_count": 217,
   "id": "afafd564",
   "metadata": {},
   "outputs": [
    {
     "data": {
      "text/html": [
       "<div>\n",
       "<style scoped>\n",
       "    .dataframe tbody tr th:only-of-type {\n",
       "        vertical-align: middle;\n",
       "    }\n",
       "\n",
       "    .dataframe tbody tr th {\n",
       "        vertical-align: top;\n",
       "    }\n",
       "\n",
       "    .dataframe thead th {\n",
       "        text-align: right;\n",
       "    }\n",
       "</style>\n",
       "<table border=\"1\" class=\"dataframe\">\n",
       "  <thead>\n",
       "    <tr style=\"text-align: right;\">\n",
       "      <th></th>\n",
       "      <th>ref_date</th>\n",
       "      <th>total_vacancies</th>\n",
       "    </tr>\n",
       "  </thead>\n",
       "  <tbody>\n",
       "    <tr>\n",
       "      <th>0</th>\n",
       "      <td>2015-04-01</td>\n",
       "      <td>451925.0</td>\n",
       "    </tr>\n",
       "    <tr>\n",
       "      <th>1</th>\n",
       "      <td>2015-07-01</td>\n",
       "      <td>407865.0</td>\n",
       "    </tr>\n",
       "    <tr>\n",
       "      <th>2</th>\n",
       "      <td>2015-10-01</td>\n",
       "      <td>358755.0</td>\n",
       "    </tr>\n",
       "    <tr>\n",
       "      <th>3</th>\n",
       "      <td>2016-01-01</td>\n",
       "      <td>330215.0</td>\n",
       "    </tr>\n",
       "    <tr>\n",
       "      <th>4</th>\n",
       "      <td>2016-04-01</td>\n",
       "      <td>391190.0</td>\n",
       "    </tr>\n",
       "    <tr>\n",
       "      <th>5</th>\n",
       "      <td>2016-07-01</td>\n",
       "      <td>404860.0</td>\n",
       "    </tr>\n",
       "    <tr>\n",
       "      <th>6</th>\n",
       "      <td>2016-10-01</td>\n",
       "      <td>381010.0</td>\n",
       "    </tr>\n",
       "    <tr>\n",
       "      <th>7</th>\n",
       "      <td>2017-01-01</td>\n",
       "      <td>387080.0</td>\n",
       "    </tr>\n",
       "    <tr>\n",
       "      <th>8</th>\n",
       "      <td>2017-04-01</td>\n",
       "      <td>459685.0</td>\n",
       "    </tr>\n",
       "    <tr>\n",
       "      <th>9</th>\n",
       "      <td>2017-07-01</td>\n",
       "      <td>467395.0</td>\n",
       "    </tr>\n",
       "    <tr>\n",
       "      <th>10</th>\n",
       "      <td>2017-10-01</td>\n",
       "      <td>469360.0</td>\n",
       "    </tr>\n",
       "    <tr>\n",
       "      <th>11</th>\n",
       "      <td>2018-01-01</td>\n",
       "      <td>461845.0</td>\n",
       "    </tr>\n",
       "    <tr>\n",
       "      <th>12</th>\n",
       "      <td>2018-04-01</td>\n",
       "      <td>546820.0</td>\n",
       "    </tr>\n",
       "    <tr>\n",
       "      <th>13</th>\n",
       "      <td>2018-07-01</td>\n",
       "      <td>550670.0</td>\n",
       "    </tr>\n",
       "    <tr>\n",
       "      <th>14</th>\n",
       "      <td>2018-10-01</td>\n",
       "      <td>547330.0</td>\n",
       "    </tr>\n",
       "    <tr>\n",
       "      <th>15</th>\n",
       "      <td>2019-01-01</td>\n",
       "      <td>506140.0</td>\n",
       "    </tr>\n",
       "    <tr>\n",
       "      <th>16</th>\n",
       "      <td>2019-04-01</td>\n",
       "      <td>581595.0</td>\n",
       "    </tr>\n",
       "    <tr>\n",
       "      <th>17</th>\n",
       "      <td>2019-07-01</td>\n",
       "      <td>562910.0</td>\n",
       "    </tr>\n",
       "    <tr>\n",
       "      <th>18</th>\n",
       "      <td>2019-10-01</td>\n",
       "      <td>508590.0</td>\n",
       "    </tr>\n",
       "    <tr>\n",
       "      <th>19</th>\n",
       "      <td>2020-01-01</td>\n",
       "      <td>512760.0</td>\n",
       "    </tr>\n",
       "  </tbody>\n",
       "</table>\n",
       "</div>"
      ],
      "text/plain": [
       "      ref_date  total_vacancies\n",
       "0   2015-04-01         451925.0\n",
       "1   2015-07-01         407865.0\n",
       "2   2015-10-01         358755.0\n",
       "3   2016-01-01         330215.0\n",
       "4   2016-04-01         391190.0\n",
       "5   2016-07-01         404860.0\n",
       "6   2016-10-01         381010.0\n",
       "7   2017-01-01         387080.0\n",
       "8   2017-04-01         459685.0\n",
       "9   2017-07-01         467395.0\n",
       "10  2017-10-01         469360.0\n",
       "11  2018-01-01         461845.0\n",
       "12  2018-04-01         546820.0\n",
       "13  2018-07-01         550670.0\n",
       "14  2018-10-01         547330.0\n",
       "15  2019-01-01         506140.0\n",
       "16  2019-04-01         581595.0\n",
       "17  2019-07-01         562910.0\n",
       "18  2019-10-01         508590.0\n",
       "19  2020-01-01         512760.0"
      ]
     },
     "execution_count": 217,
     "metadata": {},
     "output_type": "execute_result"
    }
   ],
   "source": [
    "# remove Q3 2020- Q22021\n",
    "df = df[0:20]\n",
    "df"
   ]
  },
  {
   "cell_type": "code",
   "execution_count": 218,
   "id": "ff461033",
   "metadata": {},
   "outputs": [
    {
     "name": "stdout",
     "output_type": "stream",
     "text": [
      "<class 'pandas.core.frame.DataFrame'>\n",
      "RangeIndex: 20 entries, 0 to 19\n",
      "Data columns (total 2 columns):\n",
      " #   Column           Non-Null Count  Dtype  \n",
      "---  ------           --------------  -----  \n",
      " 0   ref_date         20 non-null     object \n",
      " 1   total_vacancies  20 non-null     float64\n",
      "dtypes: float64(1), object(1)\n",
      "memory usage: 448.0+ bytes\n"
     ]
    }
   ],
   "source": [
    "df.info()"
   ]
  },
  {
   "cell_type": "code",
   "execution_count": 219,
   "id": "40a971e7",
   "metadata": {},
   "outputs": [
    {
     "data": {
      "text/html": [
       "<div>\n",
       "<style scoped>\n",
       "    .dataframe tbody tr th:only-of-type {\n",
       "        vertical-align: middle;\n",
       "    }\n",
       "\n",
       "    .dataframe tbody tr th {\n",
       "        vertical-align: top;\n",
       "    }\n",
       "\n",
       "    .dataframe thead th {\n",
       "        text-align: right;\n",
       "    }\n",
       "</style>\n",
       "<table border=\"1\" class=\"dataframe\">\n",
       "  <thead>\n",
       "    <tr style=\"text-align: right;\">\n",
       "      <th></th>\n",
       "      <th>ref_date</th>\n",
       "      <th>total_vacancies</th>\n",
       "    </tr>\n",
       "  </thead>\n",
       "  <tbody>\n",
       "    <tr>\n",
       "      <th>0</th>\n",
       "      <td>2015-04-01</td>\n",
       "      <td>451925.0</td>\n",
       "    </tr>\n",
       "    <tr>\n",
       "      <th>1</th>\n",
       "      <td>2015-07-01</td>\n",
       "      <td>407865.0</td>\n",
       "    </tr>\n",
       "    <tr>\n",
       "      <th>2</th>\n",
       "      <td>2015-10-01</td>\n",
       "      <td>358755.0</td>\n",
       "    </tr>\n",
       "    <tr>\n",
       "      <th>3</th>\n",
       "      <td>2016-01-01</td>\n",
       "      <td>330215.0</td>\n",
       "    </tr>\n",
       "    <tr>\n",
       "      <th>4</th>\n",
       "      <td>2016-04-01</td>\n",
       "      <td>391190.0</td>\n",
       "    </tr>\n",
       "  </tbody>\n",
       "</table>\n",
       "</div>"
      ],
      "text/plain": [
       "    ref_date  total_vacancies\n",
       "0 2015-04-01         451925.0\n",
       "1 2015-07-01         407865.0\n",
       "2 2015-10-01         358755.0\n",
       "3 2016-01-01         330215.0\n",
       "4 2016-04-01         391190.0"
      ]
     },
     "execution_count": 219,
     "metadata": {},
     "output_type": "execute_result"
    }
   ],
   "source": [
    "#  convert the REF_DATE column into a datetime object\n",
    "df['ref_date'] = pd.to_datetime(df['ref_date'], format='%Y-%m')\n",
    "df.head()"
   ]
  },
  {
   "cell_type": "code",
   "execution_count": 220,
   "id": "cd9cadd0",
   "metadata": {},
   "outputs": [
    {
     "data": {
      "text/plain": [
       "(20, 1)"
      ]
     },
     "execution_count": 220,
     "metadata": {},
     "output_type": "execute_result"
    }
   ],
   "source": [
    "df.set_index('ref_date', inplace=True)\n",
    "df.shape"
   ]
  },
  {
   "cell_type": "markdown",
   "id": "555ff585",
   "metadata": {},
   "source": [
    "## Time series Analysis "
   ]
  },
  {
   "cell_type": "code",
   "execution_count": 221,
   "id": "5b3b0479",
   "metadata": {},
   "outputs": [],
   "source": [
    "#visualize the time series data"
   ]
  },
  {
   "cell_type": "code",
   "execution_count": 222,
   "id": "b716bb86",
   "metadata": {},
   "outputs": [
    {
     "data": {
      "text/plain": [
       "(array([16436., 16801., 17167., 17532., 17897., 18262.]),\n",
       " [Text(0, 0, ''),\n",
       "  Text(0, 0, ''),\n",
       "  Text(0, 0, ''),\n",
       "  Text(0, 0, ''),\n",
       "  Text(0, 0, ''),\n",
       "  Text(0, 0, '')])"
      ]
     },
     "execution_count": 222,
     "metadata": {},
     "output_type": "execute_result"
    },
    {
     "data": {
      "image/png": "[encoded data removed]",
      "text/plain": [
       "<Figure size 432x288 with 1 Axes>"
      ]
     },
     "metadata": {
      "needs_background": "light"
     },
     "output_type": "display_data"
    }
   ],
   "source": [
    "sns.lineplot(data= df, x='ref_date', y= 'total_vacancies')\n",
    "plt.ylabel('Number of Job Vacancies')\n",
    "plt.xticks(rotation=45)"
   ]
  },
  {
   "cell_type": "code",
   "execution_count": 223,
   "id": "303014f6",
   "metadata": {},
   "outputs": [
    {
     "data": {
      "text/plain": [
       "<matplotlib.legend.Legend at 0x156f4d06548>"
      ]
     },
     "execution_count": 223,
     "metadata": {},
     "output_type": "execute_result"
    },
    {
     "data": {
      "image/png": "[encoded data removed]",
      "text/plain": [
       "<Figure size 432x288 with 1 Axes>"
      ]
     },
     "metadata": {
      "needs_background": "light"
     },
     "output_type": "display_data"
    }
   ],
   "source": [
    "'''check for stationary\n",
    "A stationary time series will not have any trends or seasonal patterns\n",
    "We will use the Dickey Fuller test to check for stationarity in our data '''\n",
    "\n",
    "rolling_mean = df.rolling(4).mean()\n",
    "rolling_std = df.rolling(4).std()\n",
    "\n",
    "#First, let’s make a Matplotlib plot of our time series\n",
    "plt.plot(df, color=\"blue\",label=\"Original vacancies Data\")\n",
    "# then the rolling mean\n",
    "plt.plot(rolling_mean, color=\"red\", label=\"Rolling Mean vacancies Number\")\n",
    "#And finally, the rolling standard deviation:\n",
    "plt.plot(rolling_std, color=\"black\", label = \"Rolling Standard Deviation in vacancies Number\")\n",
    "#Let’s then add a title:\n",
    "plt.title(\"vacancies Time Series, Rolling Mean, Standard Deviation\")\n",
    "#And a legend:\n",
    "plt.legend(loc=\"best\")"
   ]
  },
  {
   "cell_type": "code",
   "execution_count": 224,
   "id": "ef27f2af",
   "metadata": {},
   "outputs": [
    {
     "name": "stdout",
     "output_type": "stream",
     "text": [
      "      Values                       Metric\n",
      "0  -1.354507              Test Statistics\n",
      "1   0.603882                      p-value\n",
      "2   7.000000             No. of lags used\n",
      "3  12.000000  Number of observations used\n",
      "4  -4.137829          critical value (1%)\n",
      "5  -3.154972          critical value (5%)\n",
      "6  -2.714477         critical value (10%)\n"
     ]
    }
   ],
   "source": [
    "#We will use the Dickey Fuller test to check for stationarity in our data\n",
    "from statsmodels.tsa.stattools import adfuller\n",
    "df_test=df.iloc[:,0].values\n",
    "adft = adfuller(df_test,autolag=\"AIC\")\n",
    "\n",
    "output_df = pd.DataFrame({\"Values\":[adft[0],adft[1],adft[2],adft[3], adft[4]['1%'], adft[4]['5%'], adft[4]['10%']]  , \"Metric\":[\"Test Statistics\",\"p-value\",\"No. of lags used\",\"Number of observations used\", \n",
    "                                                        \"critical value (1%)\", \"critical value (5%)\", \"critical value (10%)\"]})\n",
    "print(output_df)"
   ]
  },
  {
   "cell_type": "markdown",
   "id": "6eed1cd4",
   "metadata": {},
   "source": [
    "our data is not stationary as p value is higher than 0.05"
   ]
  },
  {
   "cell_type": "code",
   "execution_count": 225,
   "id": "b49b83ed",
   "metadata": {},
   "outputs": [
    {
     "name": "stdout",
     "output_type": "stream",
     "text": [
      "One Quarter Lag:  0.8417507442893581\n",
      "Two Quaretrs Lag:  0.696557251422323\n",
      "Three Quaretrs Lag:  0.6788911778498717\n",
      "Four Quaretrs Lag:  0.7749030868093133\n"
     ]
    }
   ],
   "source": [
    "# Checking for autocorrelation in time series data\n",
    "# This is a measure of how correlated time series data is at a given point in time with past values\n",
    "autocorrelation_lag1 = df['total_vacancies'].autocorr(lag=1)\n",
    "print(\"One Quarter Lag: \", autocorrelation_lag1)\n",
    "\n",
    "autocorrelation_lag2 = df['total_vacancies'].autocorr(lag=2)\n",
    "print(\"Two Quaretrs Lag: \", autocorrelation_lag2)\n",
    "\n",
    "autocorrelation_lag3 = df['total_vacancies'].autocorr(lag=3)\n",
    "print(\"Three Quaretrs Lag: \", autocorrelation_lag3)\n",
    "\n",
    "autocorrelation_lag4 = df['total_vacancies'].autocorr(lag=4)\n",
    "print(\"Four Quaretrs Lag: \", autocorrelation_lag4)"
   ]
  },
  {
   "cell_type": "markdown",
   "id": "a3fb85a6",
   "metadata": {},
   "source": [
    "the data is autocorrelated"
   ]
  },
  {
   "cell_type": "code",
   "execution_count": 226,
   "id": "2e387b3b",
   "metadata": {},
   "outputs": [
    {
     "data": {
      "image/png": "[encoded data removed]",
      "text/plain": [
       "<Figure size 432x288 with 4 Axes>"
      ]
     },
     "metadata": {
      "needs_background": "light"
     },
     "output_type": "display_data"
    }
   ],
   "source": [
    "#Check for Trend decomposition is another useful way to visualize the trends in time series data\n",
    "from statsmodels.tsa.seasonal import seasonal_decompose\n",
    "decompose = seasonal_decompose(df['total_vacancies'],model='additive', period=2)\n",
    "decompose.plot()\n",
    "plt.show()"
   ]
  },
  {
   "cell_type": "markdown",
   "id": "8730c3bf",
   "metadata": {},
   "source": [
    "From this plot, we can clearly see the increasing trend in number of vacancies and the seasonality patterns in the rise and fall in values each year."
   ]
  },
  {
   "cell_type": "code",
   "execution_count": 227,
   "id": "f6cbb131",
   "metadata": {},
   "outputs": [
    {
     "data": {
      "image/png": "[encoded data removed]",
      "text/plain": [
       "<Figure size 432x288 with 1 Axes>"
      ]
     },
     "metadata": {
      "needs_background": "light"
     },
     "output_type": "display_data"
    }
   ],
   "source": [
    "# Forescasting\n",
    "df['ref_date']=df.index\n",
    "train = df[df['ref_date'] < \"2019-04-01\"]\n",
    "train['train'] = train['total_vacancies']\n",
    "del train['ref_date']\n",
    "del train['total_vacancies']\n",
    "\n",
    "test = df[df['ref_date'] >= \"2019-04-01\"]\n",
    "del test['ref_date']\n",
    "test['test'] = test['total_vacancies']\n",
    "del test['total_vacancies']\n",
    "\n",
    "plt.plot(train, color = \"black\")\n",
    "plt.plot(pd.concat([train.tail(1).rename({\"train\":\"test\"},axis='columns'),test]), color = \"red\")\n",
    "plt.title(\"Train/Test split for Job Vacancies Data\")\n",
    "plt.ylabel(\"Job Vacancies Number\")\n",
    "plt.xlabel('Year-Quarter')\n",
    "plt.xticks(rotation=45)\n",
    "sns.set()\n",
    "plt.show()"
   ]
  },
  {
   "cell_type": "code",
   "execution_count": 228,
   "id": "830e4bfc",
   "metadata": {},
   "outputs": [
    {
     "data": {
      "text/html": [
       "<div>\n",
       "<style scoped>\n",
       "    .dataframe tbody tr th:only-of-type {\n",
       "        vertical-align: middle;\n",
       "    }\n",
       "\n",
       "    .dataframe tbody tr th {\n",
       "        vertical-align: top;\n",
       "    }\n",
       "\n",
       "    .dataframe thead th {\n",
       "        text-align: right;\n",
       "    }\n",
       "</style>\n",
       "<table border=\"1\" class=\"dataframe\">\n",
       "  <thead>\n",
       "    <tr style=\"text-align: right;\">\n",
       "      <th></th>\n",
       "      <th>test</th>\n",
       "    </tr>\n",
       "    <tr>\n",
       "      <th>ref_date</th>\n",
       "      <th></th>\n",
       "    </tr>\n",
       "  </thead>\n",
       "  <tbody>\n",
       "    <tr>\n",
       "      <th>2019-01-01</th>\n",
       "      <td>506140.0</td>\n",
       "    </tr>\n",
       "    <tr>\n",
       "      <th>2019-04-01</th>\n",
       "      <td>581595.0</td>\n",
       "    </tr>\n",
       "    <tr>\n",
       "      <th>2019-07-01</th>\n",
       "      <td>562910.0</td>\n",
       "    </tr>\n",
       "    <tr>\n",
       "      <th>2019-10-01</th>\n",
       "      <td>508590.0</td>\n",
       "    </tr>\n",
       "    <tr>\n",
       "      <th>2020-01-01</th>\n",
       "      <td>512760.0</td>\n",
       "    </tr>\n",
       "  </tbody>\n",
       "</table>\n",
       "</div>"
      ],
      "text/plain": [
       "                test\n",
       "ref_date            \n",
       "2019-01-01  506140.0\n",
       "2019-04-01  581595.0\n",
       "2019-07-01  562910.0\n",
       "2019-10-01  508590.0\n",
       "2020-01-01  512760.0"
      ]
     },
     "execution_count": 228,
     "metadata": {},
     "output_type": "execute_result"
    }
   ],
   "source": [
    "pd.concat([train.tail(1).rename({\"train\":\"test\"},axis='columns'),test])"
   ]
  },
  {
   "cell_type": "markdown",
   "id": "dc714925",
   "metadata": {},
   "source": [
    "## SARIMA"
   ]
  },
  {
   "cell_type": "markdown",
   "id": "0b074290",
   "metadata": {},
   "source": [
    "source: https://www.statsmodels.org/dev/examples/notebooks/generated/statespace_sarimax_stata.html"
   ]
  },
  {
   "cell_type": "code",
   "execution_count": 229,
   "id": "fc0bb6a4",
   "metadata": {},
   "outputs": [],
   "source": [
    "# Register converters to avoid warnings\n",
    "pd.plotting.register_matplotlib_converters()\n",
    "plt.rc(\"figure\", figsize=(16,8))\n",
    "plt.rc(\"font\", size=14)"
   ]
  },
  {
   "cell_type": "code",
   "execution_count": 230,
   "id": "62e427ae",
   "metadata": {},
   "outputs": [
    {
     "name": "stdout",
     "output_type": "stream",
     "text": [
      "                                     SARIMAX Results                                     \n",
      "=========================================================================================\n",
      "Dep. Variable:                             train   No. Observations:                   16\n",
      "Model:             SARIMAX(1, 0, 1)x(1, 1, 1, 2)   Log Likelihood                -173.872\n",
      "Date:                           Mon, 22 Nov 2021   AIC                            359.743\n",
      "Time:                                   14:20:59   BIC                            363.578\n",
      "Sample:                               04-01-2015   HQIC                           359.388\n",
      "                                    - 01-01-2019                                         \n",
      "Covariance Type:                             opg                                         \n",
      "==============================================================================\n",
      "                 coef    std err          z      P>|z|      [0.025      0.975]\n",
      "------------------------------------------------------------------------------\n",
      "drift       -977.4230      0.000  -3.24e+06      0.000    -977.424    -977.422\n",
      "ar.L1         -0.6867      0.079     -8.736      0.000      -0.841      -0.533\n",
      "ma.L1          1.0000      0.919      1.088      0.277      -0.802       2.802\n",
      "ar.S.L2       -0.9999      0.037    -26.936      0.000      -1.073      -0.927\n",
      "ma.S.L2        0.9957      1.046      0.952      0.341      -1.055       3.046\n",
      "sigma2      3.801e+08   2.42e-09   1.57e+17      0.000     3.8e+08     3.8e+08\n",
      "===================================================================================\n",
      "Ljung-Box (L1) (Q):                   2.83   Jarque-Bera (JB):                 2.93\n",
      "Prob(Q):                              0.09   Prob(JB):                         0.23\n",
      "Heteroskedasticity (H):               1.13   Skew:                            -1.12\n",
      "Prob(H) (two-sided):                  0.90   Kurtosis:                         3.02\n",
      "===================================================================================\n",
      "\n",
      "Warnings:\n",
      "[1] Covariance matrix calculated using the outer product of gradients (complex-step).\n",
      "[2] Covariance matrix is singular or near-singular, with condition number 2.5e+33. Standard errors may be unstable.\n"
     ]
    }
   ],
   "source": [
    "# Dataset\n",
    "data = df\n",
    "data.index = data.ref_date\n",
    "# Set the frequency\n",
    "data.index.freq=\"QS-OCT\"\n",
    "\n",
    "# Fit the model (configuration is set using previous autocorreleation, trend decomposition tests)\n",
    "mod = sm.tsa.statespace.SARIMAX(train, trend='t', order=(1,0,1),seasonal_order=(1, 1, 1, 2))\n",
    "res = mod.fit(disp=False)\n",
    "print(res.summary())"
   ]
  },
  {
   "cell_type": "code",
   "execution_count": 231,
   "id": "a27fcf6b",
   "metadata": {},
   "outputs": [
    {
     "data": {
      "text/html": [
       "<div>\n",
       "<style scoped>\n",
       "    .dataframe tbody tr th:only-of-type {\n",
       "        vertical-align: middle;\n",
       "    }\n",
       "\n",
       "    .dataframe tbody tr th {\n",
       "        vertical-align: top;\n",
       "    }\n",
       "\n",
       "    .dataframe thead th {\n",
       "        text-align: right;\n",
       "    }\n",
       "</style>\n",
       "<table border=\"1\" class=\"dataframe\">\n",
       "  <thead>\n",
       "    <tr style=\"text-align: right;\">\n",
       "      <th></th>\n",
       "      <th>predicted_vacancies</th>\n",
       "    </tr>\n",
       "    <tr>\n",
       "      <th>ref_date</th>\n",
       "      <th></th>\n",
       "    </tr>\n",
       "  </thead>\n",
       "  <tbody>\n",
       "    <tr>\n",
       "      <th>2019-04-01</th>\n",
       "      <td>587459.583560</td>\n",
       "    </tr>\n",
       "    <tr>\n",
       "      <th>2019-07-01</th>\n",
       "      <td>550055.158540</td>\n",
       "    </tr>\n",
       "    <tr>\n",
       "      <th>2019-10-01</th>\n",
       "      <td>535893.292847</td>\n",
       "    </tr>\n",
       "    <tr>\n",
       "      <th>2020-01-01</th>\n",
       "      <td>495427.615778</td>\n",
       "    </tr>\n",
       "  </tbody>\n",
       "</table>\n",
       "</div>"
      ],
      "text/plain": [
       "            predicted_vacancies\n",
       "ref_date                       \n",
       "2019-04-01        587459.583560\n",
       "2019-07-01        550055.158540\n",
       "2019-10-01        535893.292847\n",
       "2020-01-01        495427.615778"
      ]
     },
     "execution_count": 231,
     "metadata": {},
     "output_type": "execute_result"
    }
   ],
   "source": [
    "# forecast values for test data\n",
    "forecast = res.predict(test.index[0],test.index[-1], dynamic=True)\n",
    "forecast = pd.DataFrame(forecast.values,index = test.index,columns=['predicted_vacancies'])\n",
    "forecast.head()"
   ]
  },
  {
   "cell_type": "code",
   "execution_count": 232,
   "id": "8957c597",
   "metadata": {},
   "outputs": [
    {
     "data": {
      "text/html": [
       "<div>\n",
       "<style scoped>\n",
       "    .dataframe tbody tr th:only-of-type {\n",
       "        vertical-align: middle;\n",
       "    }\n",
       "\n",
       "    .dataframe tbody tr th {\n",
       "        vertical-align: top;\n",
       "    }\n",
       "\n",
       "    .dataframe thead th {\n",
       "        text-align: right;\n",
       "    }\n",
       "</style>\n",
       "<table border=\"1\" class=\"dataframe\">\n",
       "  <thead>\n",
       "    <tr style=\"text-align: right;\">\n",
       "      <th></th>\n",
       "      <th>test</th>\n",
       "      <th>predicted_vacancies</th>\n",
       "    </tr>\n",
       "    <tr>\n",
       "      <th>ref_date</th>\n",
       "      <th></th>\n",
       "      <th></th>\n",
       "    </tr>\n",
       "  </thead>\n",
       "  <tbody>\n",
       "    <tr>\n",
       "      <th>2019-04-01</th>\n",
       "      <td>581595.0</td>\n",
       "      <td>587459.583560</td>\n",
       "    </tr>\n",
       "    <tr>\n",
       "      <th>2019-07-01</th>\n",
       "      <td>562910.0</td>\n",
       "      <td>550055.158540</td>\n",
       "    </tr>\n",
       "    <tr>\n",
       "      <th>2019-10-01</th>\n",
       "      <td>508590.0</td>\n",
       "      <td>535893.292847</td>\n",
       "    </tr>\n",
       "    <tr>\n",
       "      <th>2020-01-01</th>\n",
       "      <td>512760.0</td>\n",
       "      <td>495427.615778</td>\n",
       "    </tr>\n",
       "  </tbody>\n",
       "</table>\n",
       "</div>"
      ],
      "text/plain": [
       "                test  predicted_vacancies\n",
       "ref_date                                 \n",
       "2019-04-01  581595.0        587459.583560\n",
       "2019-07-01  562910.0        550055.158540\n",
       "2019-10-01  508590.0        535893.292847\n",
       "2020-01-01  512760.0        495427.615778"
      ]
     },
     "execution_count": 232,
     "metadata": {},
     "output_type": "execute_result"
    }
   ],
   "source": [
    "# create dataframe for results\n",
    "output = test.merge(forecast, how='inner', left_index=True, right_index=True)\n",
    "output.head()"
   ]
  },
  {
   "cell_type": "code",
   "execution_count": 233,
   "id": "2fc6dc9d",
   "metadata": {},
   "outputs": [
    {
     "data": {
      "text/plain": [
       "17645.974274639873"
      ]
     },
     "execution_count": 233,
     "metadata": {},
     "output_type": "execute_result"
    }
   ],
   "source": [
    "from sklearn.metrics import mean_squared_error\n",
    "\n",
    "rms = mean_squared_error(output.test,output.predicted_vacancies, squared=False)\n",
    "rms"
   ]
  },
  {
   "cell_type": "code",
   "execution_count": 234,
   "id": "5375befc",
   "metadata": {},
   "outputs": [
    {
     "data": {
      "image/png": "[encoded data removed]",
      "text/plain": [
       "<Figure size 1152x576 with 1 Axes>"
      ]
     },
     "metadata": {},
     "output_type": "display_data"
    }
   ],
   "source": [
    "#visualize results\n",
    "plt.plot(train, color = \"black\")\n",
    "plt.plot(test, color = \"red\")\n",
    "plt.plot(forecast['predicted_vacancies'],color= 'green')\n",
    "plt.title(\"Train/Test split for Job Vacancies Data\")\n",
    "plt.ylabel(\"Job Vacancies Number\")\n",
    "plt.xlabel('Year-Quarter')\n",
    "plt.xticks(rotation=45)\n",
    "plt.ylim(ymin=0)\n",
    "sns.set()\n",
    "plt.show()"
   ]
  },
  {
   "cell_type": "code",
   "execution_count": 235,
   "id": "73cf49c6",
   "metadata": {},
   "outputs": [
    {
     "data": {
      "text/plain": [
       "[2020-10-01    522739.55267\n",
       " Freq: QS-OCT, dtype: float64,\n",
       " 2021-01-01    481984.410342\n",
       " Freq: QS-OCT, dtype: float64,\n",
       " 2021-04-01    561036.264467\n",
       " Freq: QS-OCT, dtype: float64]"
      ]
     },
     "execution_count": 235,
     "metadata": {},
     "output_type": "execute_result"
    }
   ],
   "source": [
    "# check model accuaracy with actual values from statCan\n",
    "Actual=[560215,553480,731905]\n",
    "predict_quarters=['2020-10-01','2021-01-01','2021-04-01']\n",
    "\n",
    "forecast_data=[]\n",
    "counter=0\n",
    "for i in predict_quarters:\n",
    "    forecast_test = res.predict(i)\n",
    "    forecast_data.append(forecast_test)\n",
    "    counter +=1\n",
    "    \n",
    "forecast_data"
   ]
  },
  {
   "cell_type": "code",
   "execution_count": 236,
   "id": "8044eff7",
   "metadata": {},
   "outputs": [
    {
     "data": {
      "text/plain": [
       "DatetimeIndex(['2021-04-01'], dtype='datetime64[ns]', freq='QS-OCT')"
      ]
     },
     "execution_count": 236,
     "metadata": {},
     "output_type": "execute_result"
    }
   ],
   "source": [
    "forecast_data[2].index # list of dataframes"
   ]
  },
  {
   "cell_type": "code",
   "execution_count": 237,
   "id": "c31636ce",
   "metadata": {},
   "outputs": [
    {
     "data": {
      "text/plain": [
       "[522739, 481984, 561036]"
      ]
     },
     "execution_count": 237,
     "metadata": {},
     "output_type": "execute_result"
    }
   ],
   "source": [
    "#keep only forecast numbers\n",
    "[int(f.values[0]) for f in forecast_data]"
   ]
  },
  {
   "cell_type": "code",
   "execution_count": 238,
   "id": "d7ad60c7",
   "metadata": {},
   "outputs": [
    {
     "data": {
      "text/html": [
       "<div>\n",
       "<style scoped>\n",
       "    .dataframe tbody tr th:only-of-type {\n",
       "        vertical-align: middle;\n",
       "    }\n",
       "\n",
       "    .dataframe tbody tr th {\n",
       "        vertical-align: top;\n",
       "    }\n",
       "\n",
       "    .dataframe thead th {\n",
       "        text-align: right;\n",
       "    }\n",
       "</style>\n",
       "<table border=\"1\" class=\"dataframe\">\n",
       "  <thead>\n",
       "    <tr style=\"text-align: right;\">\n",
       "      <th></th>\n",
       "      <th>Predicted Value</th>\n",
       "      <th>Actual Value</th>\n",
       "    </tr>\n",
       "  </thead>\n",
       "  <tbody>\n",
       "    <tr>\n",
       "      <th>2020-10-01</th>\n",
       "      <td>522739</td>\n",
       "      <td>560215</td>\n",
       "    </tr>\n",
       "    <tr>\n",
       "      <th>2021-01-01</th>\n",
       "      <td>481984</td>\n",
       "      <td>553480</td>\n",
       "    </tr>\n",
       "    <tr>\n",
       "      <th>2021-04-01</th>\n",
       "      <td>561036</td>\n",
       "      <td>731905</td>\n",
       "    </tr>\n",
       "  </tbody>\n",
       "</table>\n",
       "</div>"
      ],
      "text/plain": [
       "            Predicted Value  Actual Value\n",
       "2020-10-01           522739        560215\n",
       "2021-01-01           481984        553480\n",
       "2021-04-01           561036        731905"
      ]
     },
     "execution_count": 238,
     "metadata": {},
     "output_type": "execute_result"
    }
   ],
   "source": [
    "# create results dataframe\n",
    "forecast_df= pd.DataFrame({'Predicted Value':[int(f.values[0]) for f in forecast_data], 'Actual Value': Actual}, index=predict_quarters)\n",
    "forecast_df.head()"
   ]
  },
  {
   "cell_type": "code",
   "execution_count": 3,
   "id": "8dbb4dcf",
   "metadata": {},
   "outputs": [],
   "source": [
    "# Function to apply timeseries model on province level\n",
    "def province_vac (province):\n",
    "    import warnings\n",
    "    warnings.filterwarnings(\"ignore\")\n",
    "    \n",
    "    # Import Data from AWS database\n",
    "    df_prov = pd.read_sql_query('SELECT * FROM \"machinelearning\"', con=conn)\n",
    "    #  convert the REF_DATE column into a datetime object\n",
    "    df_prov['ref_date'] = pd.to_datetime(df_prov['ref_date'], format='%Y-%m')\n",
    "    #select province data \n",
    "    prov_vac= df_prov.loc[df_prov['geo']== str(province),:] \n",
    "    # drop all unnecessary columns\n",
    "    prov_vac = prov_vac.loc[:,['ref_date','total_vacancies']]\n",
    "    # aggregate total vacancies per quarter\n",
    "    prov_vac= prov_vac.groupby(prov_vac['ref_date']).sum()\n",
    "    #remove Q32020 onwards\n",
    "    prov_vac= prov_vac.loc['2015-04-01':'2020-01-01']\n",
    "    # rename columns\n",
    "    prov_vac.rename(columns={'total_vacancies':f'{province}_total_vacancies'}, inplace=True)\n",
    "    #visualize the time series data\n",
    "    sns.lineplot(data= prov_vac, x='ref_date', y= f'{province}_total_vacancies')\n",
    "    plt.ylabel('Number of Job Vacancies')\n",
    "    plt.xticks(rotation=45)\n",
    "    \n",
    "    #check for stationary using the Dickey Fuller test to check for stationarity in our data\n",
    "    rolling_mean = prov_vac.rolling(4).mean()\n",
    "    rolling_std = prov_vac.rolling(4).std()\n",
    "    #First, make a Matplotlib plot of our time series\n",
    "    plt.plot(prov_vac, color=\"blue\",label=\"Original vacancies Data\")\n",
    "    # then the rolling mean\n",
    "    plt.plot(rolling_mean, color=\"red\", label=\"Rolling Mean vacancies Number\")\n",
    "    #And finally, the rolling standard deviation:\n",
    "    plt.plot(rolling_std, color=\"black\", label = \"Rolling Standard Deviation in vacancies Number\")\n",
    "    #add a title:\n",
    "    plt.title(f'{province} vacancies Time Series, Rolling Mean, Standard Deviation')\n",
    "    #And a legend:\n",
    "    plt.legend(loc=\"best\")\n",
    "    #use the Dickey Fuller test to check for stationarity in our data\n",
    "    from statsmodels.tsa.stattools import adfuller\n",
    "    prov_vac_test=prov_vac.iloc[:,0].values\n",
    "    adft_prov = adfuller(prov_vac_test,autolag=\"AIC\")\n",
    "    output_prov_df = pd.DataFrame({\"Values\":[adft_prov[0],adft_prov[1],adft_prov[2],adft_prov[3], adft_prov[4]['1%'], adft_prov[4]['5%'], adft_prov[4]['10%']]  , \"Metric\":[\"Test Statistics\",\"p-value\",\"No. of lags used\",\"Number of observations used\", \n",
    "                                                        \"critical value (1%)\", \"critical value (5%)\", \"critical value (10%)\"]})\n",
    "    print('Stationary Test Results')\n",
    "    print(output_prov_df)\n",
    "    \n",
    "    # Checking for autocorrelation in time series data\n",
    "    print('Autocorrelation Results')\n",
    "    autocorrelation_lag1_prov = prov_vac[f'{province}_total_vacancies'].autocorr(lag=1)\n",
    "    print(\"One Quarter Lag: \", autocorrelation_lag1_prov)\n",
    "    autocorrelation_lag2_prov = prov_vac[f'{province}_total_vacancies'].autocorr(lag=2)\n",
    "    print(\"Two Quaretrs Lag: \", autocorrelation_lag2_prov)\n",
    "    autocorrelation_lag3_prov = prov_vac[f'{province}_total_vacancies'].autocorr(lag=3)\n",
    "    print(\"Three Quaretrs Lag: \", autocorrelation_lag3_prov)\n",
    "    autocorrelation_lag4_prov = prov_vac[f'{province}_total_vacancies'].autocorr(lag=4)\n",
    "    print(\"Four Quaretrs Lag: \", autocorrelation_lag4_prov)\n",
    "    \n",
    "    #Check for Trend decomposition to visualize the trends in time series data\n",
    "    from statsmodels.tsa.seasonal import seasonal_decompose\n",
    "    decompose_prov = seasonal_decompose(prov_vac[f'{province}_total_vacancies'],model='additive', period=2)\n",
    "    decompose_prov.plot()\n",
    "    print('Trend Decomposition Visualization')\n",
    "    plt.show()\n",
    "    \n",
    "    # Forescasting\n",
    "    prov_vac['ref_date']=prov_vac.index\n",
    "    train_prov = prov_vac[prov_vac['ref_date'] < \"2019-04-01\"]\n",
    "    train_prov[f'train_{province}'] = train_prov[f'{province}_total_vacancies']\n",
    "    del train_prov['ref_date']\n",
    "    del train_prov[f'{province}_total_vacancies']\n",
    "\n",
    "    test_prov = prov_vac[prov_vac['ref_date'] >= \"2019-04-01\"]\n",
    "    del test_prov['ref_date']\n",
    "    test_prov[f'test_{province}'] = test_prov[f'{province}_total_vacancies']\n",
    "    del test_prov[f'{province}_total_vacancies']\n",
    "\n",
    "    # Register converters to avoid warnings\n",
    "    pd.plotting.register_matplotlib_converters()\n",
    "    plt.rc(\"figure\", figsize=(16,8))\n",
    "    plt.rc(\"font\", size=14)\n",
    "    \n",
    "    # Dataset\n",
    "    data_prov = prov_vac\n",
    "    data_prov.index = data_prov.ref_date\n",
    "    # Set the frequency\n",
    "    data_prov.index.freq=\"QS-OCT\"\n",
    "\n",
    "    # Fit the model (configuration is set using previous autocorreleation, trend decomposition tests)\n",
    "    mod_prov = sm.tsa.statespace.SARIMAX(train_prov, trend='t', order=(0,1,0),seasonal_order=(1, 1, 1, 2))\n",
    "    res_prov = mod_prov.fit(disp=False)\n",
    "    print(res_prov.summary())\n",
    "    \n",
    "    # produce forecast results\n",
    "    forecast_prov = res_prov.predict(test_prov.index[0],test_prov.index[-1], dynamic=True)\n",
    "    forecast_prov = pd.DataFrame(forecast_prov.values,index = test_prov.index,columns=[f'Prediction_{province}'])\n",
    "    output_prov = test_prov.merge(forecast_prov, how='inner', left_index=True, right_index=True)\n",
    "    print('Forecast Results')\n",
    "    \n",
    "    \n",
    "    #plot results\n",
    "    plt.plot(train_prov, color = \"black\")\n",
    "    plt.plot(test_prov, color = \"red\")\n",
    "    plt.plot(forecast_prov[f'Prediction_{province}'],color= 'green')\n",
    "    plt.title(f\"Train/Test/Forecast split for {province} Job Vacancies Data\")\n",
    "    plt.ylabel(\"Job Vacancies Number\")\n",
    "    plt.xlabel('Year-Quarter')\n",
    "    plt.xticks(rotation=45)\n",
    "    plt.ylim(ymin=0)\n",
    "    sns.set()\n",
    "    plt.show()\n",
    "    \n",
    "    from sklearn.metrics import mean_squared_error\n",
    "\n",
    "    rms_prov = mean_squared_error(output_prov[f'test_{province}'],output_prov[f'Prediction_{province}'], squared=False)\n",
    "                                  \n",
    "    print(f'RMSE is {rms_prov}')\n",
    "    return output_prov\n",
    "    \n",
    "  "
   ]
  },
  {
   "cell_type": "code",
   "execution_count": 4,
   "id": "e218afe8",
   "metadata": {},
   "outputs": [
    {
     "ename": "DatabaseError",
     "evalue": "Execution failed on sql 'SELECT * FROM \"machinelearning\"': relation \"machinelearning\" does not exist\nLINE 1: SELECT * FROM \"machinelearning\"\n                      ^\n",
     "output_type": "error",
     "traceback": [
      "\u001b[1;31m---------------------------------------------------------------------------\u001b[0m",
      "\u001b[1;31mUndefinedTable\u001b[0m                            Traceback (most recent call last)",
      "\u001b[1;32m~\\anaconda3\\envs\\mlenv\\lib\\site-packages\\pandas\\io\\sql.py\u001b[0m in \u001b[0;36mexecute\u001b[1;34m(self, *args, **kwargs)\u001b[0m\n\u001b[0;32m   1724\u001b[0m         \u001b[1;32mtry\u001b[0m\u001b[1;33m:\u001b[0m\u001b[1;33m\u001b[0m\u001b[1;33m\u001b[0m\u001b[0m\n\u001b[1;32m-> 1725\u001b[1;33m             \u001b[0mcur\u001b[0m\u001b[1;33m.\u001b[0m\u001b[0mexecute\u001b[0m\u001b[1;33m(\u001b[0m\u001b[1;33m*\u001b[0m\u001b[0margs\u001b[0m\u001b[1;33m,\u001b[0m \u001b[1;33m**\u001b[0m\u001b[0mkwargs\u001b[0m\u001b[1;33m)\u001b[0m\u001b[1;33m\u001b[0m\u001b[1;33m\u001b[0m\u001b[0m\n\u001b[0m\u001b[0;32m   1726\u001b[0m             \u001b[1;32mreturn\u001b[0m \u001b[0mcur\u001b[0m\u001b[1;33m\u001b[0m\u001b[1;33m\u001b[0m\u001b[0m\n",
      "\u001b[1;31mUndefinedTable\u001b[0m: relation \"machinelearning\" does not exist\nLINE 1: SELECT * FROM \"machinelearning\"\n                      ^\n",
      "\nThe above exception was the direct cause of the following exception:\n",
      "\u001b[1;31mDatabaseError\u001b[0m                             Traceback (most recent call last)",
      "\u001b[1;32m<ipython-input-4-069d4e27163f>\u001b[0m in \u001b[0;36m<module>\u001b[1;34m\u001b[0m\n\u001b[0;32m      4\u001b[0m              'Prince Edward Island', 'Yukon', 'Nunavut' ,'Northwest Territories']\n\u001b[0;32m      5\u001b[0m \u001b[1;33m\u001b[0m\u001b[0m\n\u001b[1;32m----> 6\u001b[1;33m \u001b[0moutput_provencies\u001b[0m\u001b[1;33m=\u001b[0m \u001b[0mprovince_vac\u001b[0m\u001b[1;33m(\u001b[0m\u001b[1;34m\"Ontario\"\u001b[0m\u001b[1;33m)\u001b[0m\u001b[1;33m\u001b[0m\u001b[1;33m\u001b[0m\u001b[0m\n\u001b[0m\u001b[0;32m      7\u001b[0m \u001b[1;33m\u001b[0m\u001b[0m\n\u001b[0;32m      8\u001b[0m \u001b[1;32mfor\u001b[0m \u001b[0mprov\u001b[0m \u001b[1;32min\u001b[0m \u001b[0mprovinces\u001b[0m\u001b[1;33m[\u001b[0m\u001b[1;36m1\u001b[0m\u001b[1;33m:\u001b[0m\u001b[1;36m13\u001b[0m\u001b[1;33m]\u001b[0m\u001b[1;33m:\u001b[0m\u001b[1;33m\u001b[0m\u001b[1;33m\u001b[0m\u001b[0m\n",
      "\u001b[1;32m<ipython-input-3-908063dadd12>\u001b[0m in \u001b[0;36mprovince_vac\u001b[1;34m(province)\u001b[0m\n\u001b[0;32m      5\u001b[0m \u001b[1;33m\u001b[0m\u001b[0m\n\u001b[0;32m      6\u001b[0m     \u001b[1;31m# Import Data from AWS database\u001b[0m\u001b[1;33m\u001b[0m\u001b[1;33m\u001b[0m\u001b[1;33m\u001b[0m\u001b[0m\n\u001b[1;32m----> 7\u001b[1;33m     \u001b[0mdf_prov\u001b[0m \u001b[1;33m=\u001b[0m \u001b[0mpd\u001b[0m\u001b[1;33m.\u001b[0m\u001b[0mread_sql_query\u001b[0m\u001b[1;33m(\u001b[0m\u001b[1;34m'SELECT * FROM \"machinelearning\"'\u001b[0m\u001b[1;33m,\u001b[0m \u001b[0mcon\u001b[0m\u001b[1;33m=\u001b[0m\u001b[0mconn\u001b[0m\u001b[1;33m)\u001b[0m\u001b[1;33m\u001b[0m\u001b[1;33m\u001b[0m\u001b[0m\n\u001b[0m\u001b[0;32m      8\u001b[0m     \u001b[1;31m#  convert the REF_DATE column into a datetime object\u001b[0m\u001b[1;33m\u001b[0m\u001b[1;33m\u001b[0m\u001b[1;33m\u001b[0m\u001b[0m\n\u001b[0;32m      9\u001b[0m     \u001b[0mdf_prov\u001b[0m\u001b[1;33m[\u001b[0m\u001b[1;34m'ref_date'\u001b[0m\u001b[1;33m]\u001b[0m \u001b[1;33m=\u001b[0m \u001b[0mpd\u001b[0m\u001b[1;33m.\u001b[0m\u001b[0mto_datetime\u001b[0m\u001b[1;33m(\u001b[0m\u001b[0mdf_prov\u001b[0m\u001b[1;33m[\u001b[0m\u001b[1;34m'ref_date'\u001b[0m\u001b[1;33m]\u001b[0m\u001b[1;33m,\u001b[0m \u001b[0mformat\u001b[0m\u001b[1;33m=\u001b[0m\u001b[1;34m'%Y-%m'\u001b[0m\u001b[1;33m)\u001b[0m\u001b[1;33m\u001b[0m\u001b[1;33m\u001b[0m\u001b[0m\n",
      "\u001b[1;32m~\\anaconda3\\envs\\mlenv\\lib\\site-packages\\pandas\\io\\sql.py\u001b[0m in \u001b[0;36mread_sql_query\u001b[1;34m(sql, con, index_col, coerce_float, params, parse_dates, chunksize)\u001b[0m\n\u001b[0;32m    392\u001b[0m         \u001b[0mcoerce_float\u001b[0m\u001b[1;33m=\u001b[0m\u001b[0mcoerce_float\u001b[0m\u001b[1;33m,\u001b[0m\u001b[1;33m\u001b[0m\u001b[1;33m\u001b[0m\u001b[0m\n\u001b[0;32m    393\u001b[0m         \u001b[0mparse_dates\u001b[0m\u001b[1;33m=\u001b[0m\u001b[0mparse_dates\u001b[0m\u001b[1;33m,\u001b[0m\u001b[1;33m\u001b[0m\u001b[1;33m\u001b[0m\u001b[0m\n\u001b[1;32m--> 394\u001b[1;33m         \u001b[0mchunksize\u001b[0m\u001b[1;33m=\u001b[0m\u001b[0mchunksize\u001b[0m\u001b[1;33m,\u001b[0m\u001b[1;33m\u001b[0m\u001b[1;33m\u001b[0m\u001b[0m\n\u001b[0m\u001b[0;32m    395\u001b[0m     )\n\u001b[0;32m    396\u001b[0m \u001b[1;33m\u001b[0m\u001b[0m\n",
      "\u001b[1;32m~\\anaconda3\\envs\\mlenv\\lib\\site-packages\\pandas\\io\\sql.py\u001b[0m in \u001b[0;36mread_query\u001b[1;34m(self, sql, index_col, coerce_float, params, parse_dates, chunksize)\u001b[0m\n\u001b[0;32m   1769\u001b[0m \u001b[1;33m\u001b[0m\u001b[0m\n\u001b[0;32m   1770\u001b[0m         \u001b[0margs\u001b[0m \u001b[1;33m=\u001b[0m \u001b[0m_convert_params\u001b[0m\u001b[1;33m(\u001b[0m\u001b[0msql\u001b[0m\u001b[1;33m,\u001b[0m \u001b[0mparams\u001b[0m\u001b[1;33m)\u001b[0m\u001b[1;33m\u001b[0m\u001b[1;33m\u001b[0m\u001b[0m\n\u001b[1;32m-> 1771\u001b[1;33m         \u001b[0mcursor\u001b[0m \u001b[1;33m=\u001b[0m \u001b[0mself\u001b[0m\u001b[1;33m.\u001b[0m\u001b[0mexecute\u001b[0m\u001b[1;33m(\u001b[0m\u001b[1;33m*\u001b[0m\u001b[0margs\u001b[0m\u001b[1;33m)\u001b[0m\u001b[1;33m\u001b[0m\u001b[1;33m\u001b[0m\u001b[0m\n\u001b[0m\u001b[0;32m   1772\u001b[0m         \u001b[0mcolumns\u001b[0m \u001b[1;33m=\u001b[0m \u001b[1;33m[\u001b[0m\u001b[0mcol_desc\u001b[0m\u001b[1;33m[\u001b[0m\u001b[1;36m0\u001b[0m\u001b[1;33m]\u001b[0m \u001b[1;32mfor\u001b[0m \u001b[0mcol_desc\u001b[0m \u001b[1;32min\u001b[0m \u001b[0mcursor\u001b[0m\u001b[1;33m.\u001b[0m\u001b[0mdescription\u001b[0m\u001b[1;33m]\u001b[0m\u001b[1;33m\u001b[0m\u001b[1;33m\u001b[0m\u001b[0m\n\u001b[0;32m   1773\u001b[0m \u001b[1;33m\u001b[0m\u001b[0m\n",
      "\u001b[1;32m~\\anaconda3\\envs\\mlenv\\lib\\site-packages\\pandas\\io\\sql.py\u001b[0m in \u001b[0;36mexecute\u001b[1;34m(self, *args, **kwargs)\u001b[0m\n\u001b[0;32m   1735\u001b[0m \u001b[1;33m\u001b[0m\u001b[0m\n\u001b[0;32m   1736\u001b[0m             \u001b[0mex\u001b[0m \u001b[1;33m=\u001b[0m \u001b[0mDatabaseError\u001b[0m\u001b[1;33m(\u001b[0m\u001b[1;34mf\"Execution failed on sql '{args[0]}': {exc}\"\u001b[0m\u001b[1;33m)\u001b[0m\u001b[1;33m\u001b[0m\u001b[1;33m\u001b[0m\u001b[0m\n\u001b[1;32m-> 1737\u001b[1;33m             \u001b[1;32mraise\u001b[0m \u001b[0mex\u001b[0m \u001b[1;32mfrom\u001b[0m \u001b[0mexc\u001b[0m\u001b[1;33m\u001b[0m\u001b[1;33m\u001b[0m\u001b[0m\n\u001b[0m\u001b[0;32m   1738\u001b[0m \u001b[1;33m\u001b[0m\u001b[0m\n\u001b[0;32m   1739\u001b[0m     \u001b[1;33m@\u001b[0m\u001b[0mstaticmethod\u001b[0m\u001b[1;33m\u001b[0m\u001b[1;33m\u001b[0m\u001b[0m\n",
      "\u001b[1;31mDatabaseError\u001b[0m: Execution failed on sql 'SELECT * FROM \"machinelearning\"': relation \"machinelearning\" does not exist\nLINE 1: SELECT * FROM \"machinelearning\"\n                      ^\n"
     ]
    }
   ],
   "source": [
    "# produce all provinces prediction test results\n",
    "provinces = ['Ontario', 'Quebec', 'British Columbia','Alberta',\\\n",
    "             'Manitoba', 'Saskatchewan','Nova Scotia', 'New Brunswick','Newfoundland and Labrador',\\\n",
    "             'Prince Edward Island', 'Yukon', 'Nunavut' ,'Northwest Territories']\n",
    "\n",
    "output_provencies= province_vac(\"Ontario\")\n",
    "\n",
    "for prov in provinces[1:13]:\n",
    "   output_provencies = pd.merge(output_provencies , province_vac(prov), left_index=True, right_index=True)\n",
    "          \n",
    "    \n",
    "#output_provencies\n",
    "print(output_provencies)"
   ]
  },
  {
   "cell_type": "code",
   "execution_count": 212,
   "id": "143291de",
   "metadata": {},
   "outputs": [
    {
     "data": {
      "text/html": [
       "<div>\n",
       "<style scoped>\n",
       "    .dataframe tbody tr th:only-of-type {\n",
       "        vertical-align: middle;\n",
       "    }\n",
       "\n",
       "    .dataframe tbody tr th {\n",
       "        vertical-align: top;\n",
       "    }\n",
       "\n",
       "    .dataframe thead th {\n",
       "        text-align: right;\n",
       "    }\n",
       "</style>\n",
       "<table border=\"1\" class=\"dataframe\">\n",
       "  <thead>\n",
       "    <tr style=\"text-align: right;\">\n",
       "      <th></th>\n",
       "      <th>test_Ontario</th>\n",
       "      <th>Prediction_Ontario</th>\n",
       "      <th>test_Quebec</th>\n",
       "      <th>Prediction_Quebec</th>\n",
       "      <th>test_British Columbia</th>\n",
       "      <th>Prediction_British Columbia</th>\n",
       "      <th>test_Alberta</th>\n",
       "      <th>Prediction_Alberta</th>\n",
       "      <th>test_Manitoba</th>\n",
       "      <th>Prediction_Manitoba</th>\n",
       "      <th>...</th>\n",
       "      <th>test_Newfoundland and Labrador</th>\n",
       "      <th>Prediction_Newfoundland and Labrador</th>\n",
       "      <th>test_Prince Edward Island</th>\n",
       "      <th>Prediction_Prince Edward Island</th>\n",
       "      <th>test_Yukon</th>\n",
       "      <th>Prediction_Yukon</th>\n",
       "      <th>test_Nunavut</th>\n",
       "      <th>Prediction_Nunavut</th>\n",
       "      <th>test_Northwest Territories</th>\n",
       "      <th>Prediction_Northwest Territories</th>\n",
       "    </tr>\n",
       "    <tr>\n",
       "      <th>ref_date</th>\n",
       "      <th></th>\n",
       "      <th></th>\n",
       "      <th></th>\n",
       "      <th></th>\n",
       "      <th></th>\n",
       "      <th></th>\n",
       "      <th></th>\n",
       "      <th></th>\n",
       "      <th></th>\n",
       "      <th></th>\n",
       "      <th></th>\n",
       "      <th></th>\n",
       "      <th></th>\n",
       "      <th></th>\n",
       "      <th></th>\n",
       "      <th></th>\n",
       "      <th></th>\n",
       "      <th></th>\n",
       "      <th></th>\n",
       "      <th></th>\n",
       "      <th></th>\n",
       "    </tr>\n",
       "  </thead>\n",
       "  <tbody>\n",
       "    <tr>\n",
       "      <th>2019-04-01</th>\n",
       "      <td>425185.0</td>\n",
       "      <td>423097.545767</td>\n",
       "      <td>279525.0</td>\n",
       "      <td>251590.383038</td>\n",
       "      <td>215305.0</td>\n",
       "      <td>215614.135397</td>\n",
       "      <td>118610.0</td>\n",
       "      <td>120331.121390</td>\n",
       "      <td>30220.0</td>\n",
       "      <td>33066.783650</td>\n",
       "      <td>...</td>\n",
       "      <td>8845.0</td>\n",
       "      <td>8967.058152</td>\n",
       "      <td>3745.0</td>\n",
       "      <td>4835.753881</td>\n",
       "      <td>1375.0</td>\n",
       "      <td>918.448640</td>\n",
       "      <td>730.0</td>\n",
       "      <td>932.025457</td>\n",
       "      <td>940.0</td>\n",
       "      <td>935.386965</td>\n",
       "    </tr>\n",
       "    <tr>\n",
       "      <th>2019-07-01</th>\n",
       "      <td>411615.0</td>\n",
       "      <td>377035.151522</td>\n",
       "      <td>273985.0</td>\n",
       "      <td>241258.658593</td>\n",
       "      <td>205430.0</td>\n",
       "      <td>212624.558826</td>\n",
       "      <td>105395.0</td>\n",
       "      <td>120199.606448</td>\n",
       "      <td>31770.0</td>\n",
       "      <td>30720.681398</td>\n",
       "      <td>...</td>\n",
       "      <td>9190.0</td>\n",
       "      <td>7607.772870</td>\n",
       "      <td>3660.0</td>\n",
       "      <td>5287.607798</td>\n",
       "      <td>1645.0</td>\n",
       "      <td>187.772215</td>\n",
       "      <td>610.0</td>\n",
       "      <td>1047.409177</td>\n",
       "      <td>1205.0</td>\n",
       "      <td>1033.551776</td>\n",
       "    </tr>\n",
       "    <tr>\n",
       "      <th>2019-10-01</th>\n",
       "      <td>381370.0</td>\n",
       "      <td>388306.575500</td>\n",
       "      <td>252400.0</td>\n",
       "      <td>232777.601386</td>\n",
       "      <td>179265.0</td>\n",
       "      <td>194126.963564</td>\n",
       "      <td>90380.0</td>\n",
       "      <td>126172.511634</td>\n",
       "      <td>30235.0</td>\n",
       "      <td>32666.487098</td>\n",
       "      <td>...</td>\n",
       "      <td>9095.0</td>\n",
       "      <td>8494.396604</td>\n",
       "      <td>2610.0</td>\n",
       "      <td>4477.614538</td>\n",
       "      <td>1130.0</td>\n",
       "      <td>-159.765714</td>\n",
       "      <td>455.0</td>\n",
       "      <td>1139.312125</td>\n",
       "      <td>720.0</td>\n",
       "      <td>1035.695235</td>\n",
       "    </tr>\n",
       "    <tr>\n",
       "      <th>2020-01-01</th>\n",
       "      <td>373185.0</td>\n",
       "      <td>328689.747536</td>\n",
       "      <td>255615.0</td>\n",
       "      <td>219086.604628</td>\n",
       "      <td>185270.0</td>\n",
       "      <td>180701.151573</td>\n",
       "      <td>96340.0</td>\n",
       "      <td>130518.910631</td>\n",
       "      <td>33265.0</td>\n",
       "      <td>31725.886526</td>\n",
       "      <td>...</td>\n",
       "      <td>8200.0</td>\n",
       "      <td>6902.500818</td>\n",
       "      <td>2125.0</td>\n",
       "      <td>3942.540727</td>\n",
       "      <td>1200.0</td>\n",
       "      <td>-933.565548</td>\n",
       "      <td>635.0</td>\n",
       "      <td>1387.310841</td>\n",
       "      <td>425.0</td>\n",
       "      <td>1143.825700</td>\n",
       "    </tr>\n",
       "  </tbody>\n",
       "</table>\n",
       "<p>4 rows × 26 columns</p>\n",
       "</div>"
      ],
      "text/plain": [
       "            test_Ontario  Prediction_Ontario  test_Quebec  Prediction_Quebec  \\\n",
       "ref_date                                                                       \n",
       "2019-04-01      425185.0       423097.545767     279525.0      251590.383038   \n",
       "2019-07-01      411615.0       377035.151522     273985.0      241258.658593   \n",
       "2019-10-01      381370.0       388306.575500     252400.0      232777.601386   \n",
       "2020-01-01      373185.0       328689.747536     255615.0      219086.604628   \n",
       "\n",
       "            test_British Columbia  Prediction_British Columbia  test_Alberta  \\\n",
       "ref_date                                                                       \n",
       "2019-04-01               215305.0                215614.135397      118610.0   \n",
       "2019-07-01               205430.0                212624.558826      105395.0   \n",
       "2019-10-01               179265.0                194126.963564       90380.0   \n",
       "2020-01-01               185270.0                180701.151573       96340.0   \n",
       "\n",
       "            Prediction_Alberta  test_Manitoba  Prediction_Manitoba  ...  \\\n",
       "ref_date                                                            ...   \n",
       "2019-04-01       120331.121390        30220.0         33066.783650  ...   \n",
       "2019-07-01       120199.606448        31770.0         30720.681398  ...   \n",
       "2019-10-01       126172.511634        30235.0         32666.487098  ...   \n",
       "2020-01-01       130518.910631        33265.0         31725.886526  ...   \n",
       "\n",
       "            test_Newfoundland and Labrador  \\\n",
       "ref_date                                     \n",
       "2019-04-01                          8845.0   \n",
       "2019-07-01                          9190.0   \n",
       "2019-10-01                          9095.0   \n",
       "2020-01-01                          8200.0   \n",
       "\n",
       "            Prediction_Newfoundland and Labrador  test_Prince Edward Island  \\\n",
       "ref_date                                                                      \n",
       "2019-04-01                           8967.058152                     3745.0   \n",
       "2019-07-01                           7607.772870                     3660.0   \n",
       "2019-10-01                           8494.396604                     2610.0   \n",
       "2020-01-01                           6902.500818                     2125.0   \n",
       "\n",
       "            Prediction_Prince Edward Island  test_Yukon  Prediction_Yukon  \\\n",
       "ref_date                                                                    \n",
       "2019-04-01                      4835.753881      1375.0        918.448640   \n",
       "2019-07-01                      5287.607798      1645.0        187.772215   \n",
       "2019-10-01                      4477.614538      1130.0       -159.765714   \n",
       "2020-01-01                      3942.540727      1200.0       -933.565548   \n",
       "\n",
       "            test_Nunavut  Prediction_Nunavut  test_Northwest Territories  \\\n",
       "ref_date                                                                   \n",
       "2019-04-01         730.0          932.025457                       940.0   \n",
       "2019-07-01         610.0         1047.409177                      1205.0   \n",
       "2019-10-01         455.0         1139.312125                       720.0   \n",
       "2020-01-01         635.0         1387.310841                       425.0   \n",
       "\n",
       "            Prediction_Northwest Territories  \n",
       "ref_date                                      \n",
       "2019-04-01                        935.386965  \n",
       "2019-07-01                       1033.551776  \n",
       "2019-10-01                       1035.695235  \n",
       "2020-01-01                       1143.825700  \n",
       "\n",
       "[4 rows x 26 columns]"
      ]
     },
     "execution_count": 212,
     "metadata": {},
     "output_type": "execute_result"
    }
   ],
   "source": [
    "output_provencies"
   ]
  },
  {
   "cell_type": "code",
   "execution_count": 1,
   "id": "90de5b43",
   "metadata": {},
   "outputs": [
    {
     "ename": "NameError",
     "evalue": "name 'conn' is not defined",
     "output_type": "error",
     "traceback": [
      "\u001b[1;31m---------------------------------------------------------------------------\u001b[0m",
      "\u001b[1;31mNameError\u001b[0m                                 Traceback (most recent call last)",
      "\u001b[1;32m<ipython-input-1-0ecdbeb45331>\u001b[0m in \u001b[0;36m<module>\u001b[1;34m\u001b[0m\n\u001b[0;32m      1\u001b[0m \u001b[1;31m# close connection to DB\u001b[0m\u001b[1;33m\u001b[0m\u001b[1;33m\u001b[0m\u001b[1;33m\u001b[0m\u001b[0m\n\u001b[1;32m----> 2\u001b[1;33m \u001b[0mconn\u001b[0m\u001b[1;33m.\u001b[0m\u001b[0mclose\u001b[0m\u001b[1;33m(\u001b[0m\u001b[1;33m)\u001b[0m\u001b[1;33m\u001b[0m\u001b[1;33m\u001b[0m\u001b[0m\n\u001b[0m",
      "\u001b[1;31mNameError\u001b[0m: name 'conn' is not defined"
     ]
    }
   ],
   "source": [
    "# close connection to DB\n",
    "conn.close()"
   ]
  },
  {
   "cell_type": "code",
   "execution_count": null,
   "id": "5cae734f",
   "metadata": {},
   "outputs": [],
   "source": []
  }
 ],
 "metadata": {
  "interpreter": {
   "hash": "7fb40b2bff4b8c02e62704ce8519f89739dc9c6a2ee22d7f8a1f86f8545468be"
  },
  "kernelspec": {
   "display_name": "Python 3 (ipykernel)",
   "language": "python",
   "name": "python3"
  },
  "language_info": {
   "codemirror_mode": {
    "name": "ipython",
    "version": 3
   },
   "file_extension": ".py",
   "mimetype": "text/x-python",
   "name": "python",
   "nbconvert_exporter": "python",
   "pygments_lexer": "ipython3",
   "version": "3.7.10"
  }
 },
 "nbformat": 4,
 "nbformat_minor": 5
}
