{
 "cells": [
  {
   "cell_type": "code",
   "execution_count": 4,
   "id": "b333d6d1",
   "metadata": {},
   "outputs": [],
   "source": [
    "# Import dependencies\n",
    "import pandas as pd\n",
    "import datetime as dt\n",
    "import matplotlib.pyplot as plt\n",
    "import seaborn as sns \n",
    "import numpy as np"
   ]
  },
  {
   "cell_type": "code",
   "execution_count": 5,
   "id": "5f7fcea0",
   "metadata": {},
   "outputs": [
    {
     "data": {
      "text/html": [
       "<div>\n",
       "<style scoped>\n",
       "    .dataframe tbody tr th:only-of-type {\n",
       "        vertical-align: middle;\n",
       "    }\n",
       "\n",
       "    .dataframe tbody tr th {\n",
       "        vertical-align: top;\n",
       "    }\n",
       "\n",
       "    .dataframe thead th {\n",
       "        text-align: right;\n",
       "    }\n",
       "</style>\n",
       "<table border=\"1\" class=\"dataframe\">\n",
       "  <thead>\n",
       "    <tr style=\"text-align: right;\">\n",
       "      <th></th>\n",
       "      <th>Unnamed: 0</th>\n",
       "      <th>REF_DATE</th>\n",
       "      <th>GEO</th>\n",
       "      <th>DGUID</th>\n",
       "      <th>National Occupational Classification</th>\n",
       "      <th>Job vacancy characteristics</th>\n",
       "      <th>Statistics</th>\n",
       "      <th>VALUE</th>\n",
       "      <th>STATUS</th>\n",
       "    </tr>\n",
       "  </thead>\n",
       "  <tbody>\n",
       "    <tr>\n",
       "      <th>0</th>\n",
       "      <td>1143184</td>\n",
       "      <td>2015-04</td>\n",
       "      <td>Canada</td>\n",
       "      <td>2016A000011124</td>\n",
       "      <td>Total, all occupations</td>\n",
       "      <td>Type of work, all types</td>\n",
       "      <td>Job vacancies</td>\n",
       "      <td>451925.0</td>\n",
       "      <td>A</td>\n",
       "    </tr>\n",
       "    <tr>\n",
       "      <th>1</th>\n",
       "      <td>2286368</td>\n",
       "      <td>2015-07</td>\n",
       "      <td>Canada</td>\n",
       "      <td>2016A000011124</td>\n",
       "      <td>Total, all occupations</td>\n",
       "      <td>Type of work, all types</td>\n",
       "      <td>Job vacancies</td>\n",
       "      <td>407865.0</td>\n",
       "      <td>A</td>\n",
       "    </tr>\n",
       "    <tr>\n",
       "      <th>2</th>\n",
       "      <td>3429552</td>\n",
       "      <td>2015-10</td>\n",
       "      <td>Canada</td>\n",
       "      <td>2016A000011124</td>\n",
       "      <td>Total, all occupations</td>\n",
       "      <td>Type of work, all types</td>\n",
       "      <td>Job vacancies</td>\n",
       "      <td>358755.0</td>\n",
       "      <td>A</td>\n",
       "    </tr>\n",
       "    <tr>\n",
       "      <th>3</th>\n",
       "      <td>4572736</td>\n",
       "      <td>2016-01</td>\n",
       "      <td>Canada</td>\n",
       "      <td>2016A000011124</td>\n",
       "      <td>Total, all occupations</td>\n",
       "      <td>Type of work, all types</td>\n",
       "      <td>Job vacancies</td>\n",
       "      <td>330215.0</td>\n",
       "      <td>A</td>\n",
       "    </tr>\n",
       "    <tr>\n",
       "      <th>4</th>\n",
       "      <td>5715920</td>\n",
       "      <td>2016-04</td>\n",
       "      <td>Canada</td>\n",
       "      <td>2016A000011124</td>\n",
       "      <td>Total, all occupations</td>\n",
       "      <td>Type of work, all types</td>\n",
       "      <td>Job vacancies</td>\n",
       "      <td>391190.0</td>\n",
       "      <td>A</td>\n",
       "    </tr>\n",
       "  </tbody>\n",
       "</table>\n",
       "</div>"
      ],
      "text/plain": [
       "   Unnamed: 0 REF_DATE     GEO           DGUID  \\\n",
       "0     1143184  2015-04  Canada  2016A000011124   \n",
       "1     2286368  2015-07  Canada  2016A000011124   \n",
       "2     3429552  2015-10  Canada  2016A000011124   \n",
       "3     4572736  2016-01  Canada  2016A000011124   \n",
       "4     5715920  2016-04  Canada  2016A000011124   \n",
       "\n",
       "  National Occupational Classification Job vacancy characteristics  \\\n",
       "0               Total, all occupations     Type of work, all types   \n",
       "1               Total, all occupations     Type of work, all types   \n",
       "2               Total, all occupations     Type of work, all types   \n",
       "3               Total, all occupations     Type of work, all types   \n",
       "4               Total, all occupations     Type of work, all types   \n",
       "\n",
       "      Statistics     VALUE STATUS  \n",
       "0  Job vacancies  451925.0      A  \n",
       "1  Job vacancies  407865.0      A  \n",
       "2  Job vacancies  358755.0      A  \n",
       "3  Job vacancies  330215.0      A  \n",
       "4  Job vacancies  391190.0      A  "
      ]
     },
     "execution_count": 5,
     "metadata": {},
     "output_type": "execute_result"
    }
   ],
   "source": [
    "df= pd.read_csv('TotalVacancies_Q32015_Q42019_2021_11_12.csv')\n",
    "df.head()"
   ]
  },
  {
   "cell_type": "code",
   "execution_count": 6,
   "id": "c83344eb",
   "metadata": {},
   "outputs": [
    {
     "name": "stdout",
     "output_type": "stream",
     "text": [
      "<class 'pandas.core.frame.DataFrame'>\n",
      "RangeIndex: 19 entries, 0 to 18\n",
      "Data columns (total 9 columns):\n",
      " #   Column                                Non-Null Count  Dtype  \n",
      "---  ------                                --------------  -----  \n",
      " 0   Unnamed: 0                            19 non-null     int64  \n",
      " 1   REF_DATE                              19 non-null     object \n",
      " 2   GEO                                   19 non-null     object \n",
      " 3   DGUID                                 19 non-null     object \n",
      " 4   National Occupational Classification  19 non-null     object \n",
      " 5   Job vacancy characteristics           19 non-null     object \n",
      " 6   Statistics                            19 non-null     object \n",
      " 7   VALUE                                 19 non-null     float64\n",
      " 8   STATUS                                19 non-null     object \n",
      "dtypes: float64(1), int64(1), object(7)\n",
      "memory usage: 1.5+ KB\n"
     ]
    }
   ],
   "source": [
    "df.info()"
   ]
  },
  {
   "cell_type": "code",
   "execution_count": 7,
   "id": "7b054a59",
   "metadata": {},
   "outputs": [
    {
     "data": {
      "text/html": [
       "<div>\n",
       "<style scoped>\n",
       "    .dataframe tbody tr th:only-of-type {\n",
       "        vertical-align: middle;\n",
       "    }\n",
       "\n",
       "    .dataframe tbody tr th {\n",
       "        vertical-align: top;\n",
       "    }\n",
       "\n",
       "    .dataframe thead th {\n",
       "        text-align: right;\n",
       "    }\n",
       "</style>\n",
       "<table border=\"1\" class=\"dataframe\">\n",
       "  <thead>\n",
       "    <tr style=\"text-align: right;\">\n",
       "      <th></th>\n",
       "      <th>REF_DATE</th>\n",
       "      <th>VALUE</th>\n",
       "    </tr>\n",
       "  </thead>\n",
       "  <tbody>\n",
       "    <tr>\n",
       "      <th>0</th>\n",
       "      <td>2015-04</td>\n",
       "      <td>451925.0</td>\n",
       "    </tr>\n",
       "    <tr>\n",
       "      <th>1</th>\n",
       "      <td>2015-07</td>\n",
       "      <td>407865.0</td>\n",
       "    </tr>\n",
       "    <tr>\n",
       "      <th>2</th>\n",
       "      <td>2015-10</td>\n",
       "      <td>358755.0</td>\n",
       "    </tr>\n",
       "    <tr>\n",
       "      <th>3</th>\n",
       "      <td>2016-01</td>\n",
       "      <td>330215.0</td>\n",
       "    </tr>\n",
       "    <tr>\n",
       "      <th>4</th>\n",
       "      <td>2016-04</td>\n",
       "      <td>391190.0</td>\n",
       "    </tr>\n",
       "  </tbody>\n",
       "</table>\n",
       "</div>"
      ],
      "text/plain": [
       "  REF_DATE     VALUE\n",
       "0  2015-04  451925.0\n",
       "1  2015-07  407865.0\n",
       "2  2015-10  358755.0\n",
       "3  2016-01  330215.0\n",
       "4  2016-04  391190.0"
      ]
     },
     "execution_count": 7,
     "metadata": {},
     "output_type": "execute_result"
    }
   ],
   "source": [
    "# drop all unnecessary columns \n",
    "df = df.loc[:,['REF_DATE','VALUE']]\n",
    "df.head()\n",
    "            "
   ]
  },
  {
   "cell_type": "code",
   "execution_count": 8,
   "id": "f6b19d87",
   "metadata": {},
   "outputs": [
    {
     "data": {
      "text/html": [
       "<div>\n",
       "<style scoped>\n",
       "    .dataframe tbody tr th:only-of-type {\n",
       "        vertical-align: middle;\n",
       "    }\n",
       "\n",
       "    .dataframe tbody tr th {\n",
       "        vertical-align: top;\n",
       "    }\n",
       "\n",
       "    .dataframe thead th {\n",
       "        text-align: right;\n",
       "    }\n",
       "</style>\n",
       "<table border=\"1\" class=\"dataframe\">\n",
       "  <thead>\n",
       "    <tr style=\"text-align: right;\">\n",
       "      <th></th>\n",
       "      <th>REF_DATE</th>\n",
       "      <th>TotalVacancies</th>\n",
       "    </tr>\n",
       "  </thead>\n",
       "  <tbody>\n",
       "    <tr>\n",
       "      <th>0</th>\n",
       "      <td>2015-04</td>\n",
       "      <td>451925.0</td>\n",
       "    </tr>\n",
       "    <tr>\n",
       "      <th>1</th>\n",
       "      <td>2015-07</td>\n",
       "      <td>407865.0</td>\n",
       "    </tr>\n",
       "    <tr>\n",
       "      <th>2</th>\n",
       "      <td>2015-10</td>\n",
       "      <td>358755.0</td>\n",
       "    </tr>\n",
       "    <tr>\n",
       "      <th>3</th>\n",
       "      <td>2016-01</td>\n",
       "      <td>330215.0</td>\n",
       "    </tr>\n",
       "    <tr>\n",
       "      <th>4</th>\n",
       "      <td>2016-04</td>\n",
       "      <td>391190.0</td>\n",
       "    </tr>\n",
       "  </tbody>\n",
       "</table>\n",
       "</div>"
      ],
      "text/plain": [
       "  REF_DATE  TotalVacancies\n",
       "0  2015-04        451925.0\n",
       "1  2015-07        407865.0\n",
       "2  2015-10        358755.0\n",
       "3  2016-01        330215.0\n",
       "4  2016-04        391190.0"
      ]
     },
     "execution_count": 8,
     "metadata": {},
     "output_type": "execute_result"
    }
   ],
   "source": [
    "df.rename(columns={'VALUE':'TotalVacancies'}, inplace=True)\n",
    "df.head()"
   ]
  },
  {
   "cell_type": "code",
   "execution_count": 9,
   "id": "7343e2f6",
   "metadata": {},
   "outputs": [
    {
     "data": {
      "text/plain": [
       "8775240.0"
      ]
     },
     "execution_count": 9,
     "metadata": {},
     "output_type": "execute_result"
    }
   ],
   "source": [
    "df['TotalVacancies'].sum()"
   ]
  },
  {
   "cell_type": "code",
   "execution_count": 10,
   "id": "b21620bf",
   "metadata": {},
   "outputs": [
    {
     "data": {
      "text/html": [
       "<div>\n",
       "<style scoped>\n",
       "    .dataframe tbody tr th:only-of-type {\n",
       "        vertical-align: middle;\n",
       "    }\n",
       "\n",
       "    .dataframe tbody tr th {\n",
       "        vertical-align: top;\n",
       "    }\n",
       "\n",
       "    .dataframe thead th {\n",
       "        text-align: right;\n",
       "    }\n",
       "</style>\n",
       "<table border=\"1\" class=\"dataframe\">\n",
       "  <thead>\n",
       "    <tr style=\"text-align: right;\">\n",
       "      <th></th>\n",
       "      <th>REF_DATE</th>\n",
       "      <th>TotalVacancies</th>\n",
       "    </tr>\n",
       "  </thead>\n",
       "  <tbody>\n",
       "    <tr>\n",
       "      <th>0</th>\n",
       "      <td>2015-04-01</td>\n",
       "      <td>451925.0</td>\n",
       "    </tr>\n",
       "    <tr>\n",
       "      <th>1</th>\n",
       "      <td>2015-07-01</td>\n",
       "      <td>407865.0</td>\n",
       "    </tr>\n",
       "    <tr>\n",
       "      <th>2</th>\n",
       "      <td>2015-10-01</td>\n",
       "      <td>358755.0</td>\n",
       "    </tr>\n",
       "    <tr>\n",
       "      <th>3</th>\n",
       "      <td>2016-01-01</td>\n",
       "      <td>330215.0</td>\n",
       "    </tr>\n",
       "    <tr>\n",
       "      <th>4</th>\n",
       "      <td>2016-04-01</td>\n",
       "      <td>391190.0</td>\n",
       "    </tr>\n",
       "    <tr>\n",
       "      <th>5</th>\n",
       "      <td>2016-07-01</td>\n",
       "      <td>404860.0</td>\n",
       "    </tr>\n",
       "    <tr>\n",
       "      <th>6</th>\n",
       "      <td>2016-10-01</td>\n",
       "      <td>381010.0</td>\n",
       "    </tr>\n",
       "    <tr>\n",
       "      <th>7</th>\n",
       "      <td>2017-01-01</td>\n",
       "      <td>387080.0</td>\n",
       "    </tr>\n",
       "    <tr>\n",
       "      <th>8</th>\n",
       "      <td>2017-04-01</td>\n",
       "      <td>459685.0</td>\n",
       "    </tr>\n",
       "    <tr>\n",
       "      <th>9</th>\n",
       "      <td>2017-07-01</td>\n",
       "      <td>467395.0</td>\n",
       "    </tr>\n",
       "    <tr>\n",
       "      <th>10</th>\n",
       "      <td>2017-10-01</td>\n",
       "      <td>469360.0</td>\n",
       "    </tr>\n",
       "    <tr>\n",
       "      <th>11</th>\n",
       "      <td>2018-01-01</td>\n",
       "      <td>461845.0</td>\n",
       "    </tr>\n",
       "    <tr>\n",
       "      <th>12</th>\n",
       "      <td>2018-04-01</td>\n",
       "      <td>546820.0</td>\n",
       "    </tr>\n",
       "    <tr>\n",
       "      <th>13</th>\n",
       "      <td>2018-07-01</td>\n",
       "      <td>550670.0</td>\n",
       "    </tr>\n",
       "    <tr>\n",
       "      <th>14</th>\n",
       "      <td>2018-10-01</td>\n",
       "      <td>547330.0</td>\n",
       "    </tr>\n",
       "    <tr>\n",
       "      <th>15</th>\n",
       "      <td>2019-01-01</td>\n",
       "      <td>506140.0</td>\n",
       "    </tr>\n",
       "    <tr>\n",
       "      <th>16</th>\n",
       "      <td>2019-04-01</td>\n",
       "      <td>581595.0</td>\n",
       "    </tr>\n",
       "    <tr>\n",
       "      <th>17</th>\n",
       "      <td>2019-07-01</td>\n",
       "      <td>562910.0</td>\n",
       "    </tr>\n",
       "    <tr>\n",
       "      <th>18</th>\n",
       "      <td>2019-10-01</td>\n",
       "      <td>508590.0</td>\n",
       "    </tr>\n",
       "  </tbody>\n",
       "</table>\n",
       "</div>"
      ],
      "text/plain": [
       "     REF_DATE  TotalVacancies\n",
       "0  2015-04-01        451925.0\n",
       "1  2015-07-01        407865.0\n",
       "2  2015-10-01        358755.0\n",
       "3  2016-01-01        330215.0\n",
       "4  2016-04-01        391190.0\n",
       "5  2016-07-01        404860.0\n",
       "6  2016-10-01        381010.0\n",
       "7  2017-01-01        387080.0\n",
       "8  2017-04-01        459685.0\n",
       "9  2017-07-01        467395.0\n",
       "10 2017-10-01        469360.0\n",
       "11 2018-01-01        461845.0\n",
       "12 2018-04-01        546820.0\n",
       "13 2018-07-01        550670.0\n",
       "14 2018-10-01        547330.0\n",
       "15 2019-01-01        506140.0\n",
       "16 2019-04-01        581595.0\n",
       "17 2019-07-01        562910.0\n",
       "18 2019-10-01        508590.0"
      ]
     },
     "execution_count": 10,
     "metadata": {},
     "output_type": "execute_result"
    }
   ],
   "source": [
    "#  convert the REF_DATE column into a datetime object\n",
    "df['REF_DATE'] = pd.to_datetime(df['REF_DATE'], format='%Y-%m')\n",
    "df.head(19)"
   ]
  },
  {
   "cell_type": "code",
   "execution_count": 11,
   "id": "05476af7",
   "metadata": {},
   "outputs": [],
   "source": [
    "df.set_index('REF_DATE', inplace=True)"
   ]
  },
  {
   "cell_type": "code",
   "execution_count": 12,
   "id": "6f5f6236",
   "metadata": {},
   "outputs": [
    {
     "data": {
      "text/plain": [
       "(19, 1)"
      ]
     },
     "execution_count": 12,
     "metadata": {},
     "output_type": "execute_result"
    }
   ],
   "source": [
    "df.shape"
   ]
  },
  {
   "cell_type": "code",
   "execution_count": 13,
   "id": "f7bb025a",
   "metadata": {},
   "outputs": [
    {
     "data": {
      "text/plain": [
       "array([[451925.],\n",
       "       [407865.],\n",
       "       [358755.],\n",
       "       [330215.],\n",
       "       [391190.],\n",
       "       [404860.],\n",
       "       [381010.],\n",
       "       [387080.],\n",
       "       [459685.],\n",
       "       [467395.],\n",
       "       [469360.],\n",
       "       [461845.],\n",
       "       [546820.],\n",
       "       [550670.],\n",
       "       [547330.],\n",
       "       [506140.],\n",
       "       [581595.],\n",
       "       [562910.],\n",
       "       [508590.]])"
      ]
     },
     "execution_count": 13,
     "metadata": {},
     "output_type": "execute_result"
    }
   ],
   "source": [
    "df.values"
   ]
  },
  {
   "cell_type": "markdown",
   "id": "49c0accd",
   "metadata": {},
   "source": [
    "## Time series Analysis "
   ]
  },
  {
   "cell_type": "code",
   "execution_count": 14,
   "id": "cfdefcb2",
   "metadata": {},
   "outputs": [],
   "source": [
    "#visualize the time series data"
   ]
  },
  {
   "cell_type": "code",
   "execution_count": 15,
   "id": "c24940fe",
   "metadata": {},
   "outputs": [
    {
     "data": {
      "text/plain": [
       "(array([16617., 16801., 16983., 17167., 17348., 17532., 17713., 17897.,\n",
       "        18078.]),\n",
       " [Text(0, 0, ''),\n",
       "  Text(0, 0, ''),\n",
       "  Text(0, 0, ''),\n",
       "  Text(0, 0, ''),\n",
       "  Text(0, 0, ''),\n",
       "  Text(0, 0, ''),\n",
       "  Text(0, 0, ''),\n",
       "  Text(0, 0, ''),\n",
       "  Text(0, 0, '')])"
      ]
     },
     "execution_count": 15,
     "metadata": {},
     "output_type": "execute_result"
    },
    {
     "data": {
      "image/png": "[encoded data removed]",
      "text/plain": [
       "<Figure size 432x288 with 1 Axes>"
      ]
     },
     "metadata": {
      "needs_background": "light"
     },
     "output_type": "display_data"
    }
   ],
   "source": [
    "sns.lineplot(data= df, x='REF_DATE', y= 'TotalVacancies')\n",
    "plt.ylabel('Number of Job Vacancies')\n",
    "plt.xticks(rotation=45)"
   ]
  },
  {
   "cell_type": "code",
   "execution_count": 16,
   "id": "9483ab00",
   "metadata": {},
   "outputs": [
    {
     "data": {
      "text/plain": [
       "TotalVacancies    float64\n",
       "dtype: object"
      ]
     },
     "execution_count": 16,
     "metadata": {},
     "output_type": "execute_result"
    }
   ],
   "source": [
    "df.dtypes"
   ]
  },
  {
   "cell_type": "code",
   "execution_count": 17,
   "id": "86fd8759",
   "metadata": {},
   "outputs": [
    {
     "data": {
      "text/plain": [
       "(19, 1)"
      ]
     },
     "execution_count": 17,
     "metadata": {},
     "output_type": "execute_result"
    }
   ],
   "source": [
    "df.shape"
   ]
  },
  {
   "cell_type": "code",
   "execution_count": 18,
   "id": "28c919ab",
   "metadata": {},
   "outputs": [
    {
     "data": {
      "text/plain": [
       "[<matplotlib.lines.Line2D at 0x16756ec4348>]"
      ]
     },
     "execution_count": 18,
     "metadata": {},
     "output_type": "execute_result"
    },
    {
     "data": {
      "image/png": "[encoded data removed]",
      "text/plain": [
       "<Figure size 432x288 with 1 Axes>"
      ]
     },
     "metadata": {
      "needs_background": "light"
     },
     "output_type": "display_data"
    }
   ],
   "source": [
    "plt.plot(df, color=\"blue\",label=\"Original vacancies Data\")"
   ]
  },
  {
   "cell_type": "code",
   "execution_count": 19,
   "id": "873cefcd",
   "metadata": {},
   "outputs": [
    {
     "data": {
      "text/plain": [
       "(19, 1)"
      ]
     },
     "execution_count": 19,
     "metadata": {},
     "output_type": "execute_result"
    }
   ],
   "source": [
    "df.shape"
   ]
  },
  {
   "cell_type": "code",
   "execution_count": 20,
   "id": "d14317f0",
   "metadata": {},
   "outputs": [
    {
     "data": {
      "text/plain": [
       "<matplotlib.legend.Legend at 0x16756f38648>"
      ]
     },
     "execution_count": 20,
     "metadata": {},
     "output_type": "execute_result"
    },
    {
     "data": {
      "image/png": "[encoded data removed]",
      "text/plain": [
       "<Figure size 432x288 with 1 Axes>"
      ]
     },
     "metadata": {
      "needs_background": "light"
     },
     "output_type": "display_data"
    }
   ],
   "source": [
    "'''check for stationary\n",
    "A stationary time series will not have any trends or seasonal patterns\n",
    "We will use the Dickey Fuller test to check for stationarity in our data '''\n",
    "\n",
    "rolling_mean = df.rolling(4).mean()\n",
    "rolling_std = df.rolling(4).std()\n",
    "\n",
    "#First, let’s make a Matplotlib plot of our time series\n",
    "plt.plot(df, color=\"blue\",label=\"Original vacancies Data\")\n",
    "# then the rolling mean\n",
    "plt.plot(rolling_mean, color=\"red\", label=\"Rolling Mean vacancies Number\")\n",
    "#And finally, the rolling standard deviation:\n",
    "plt.plot(rolling_std, color=\"black\", label = \"Rolling Standard Deviation in vacancies Number\")\n",
    "#Let’s then add a title:\n",
    "plt.title(\"vacancies Time Series, Rolling Mean, Standard Deviation\")\n",
    "#And a legend:\n",
    "plt.legend(loc=\"best\")"
   ]
  },
  {
   "cell_type": "code",
   "execution_count": 21,
   "id": "d38af25f",
   "metadata": {},
   "outputs": [
    {
     "name": "stdout",
     "output_type": "stream",
     "text": [
      "      Values                       Metric\n",
      "0  -1.396640              Test Statistics\n",
      "1   0.583886                      p-value\n",
      "2   7.000000             No. of lags used\n",
      "3  11.000000  Number of observations used\n",
      "4  -4.223238          critical value (1%)\n",
      "5  -3.189369          critical value (5%)\n",
      "6  -2.729839         critical value (10%)\n"
     ]
    }
   ],
   "source": [
    "#We will use the Dickey Fuller test to check for stationarity in our data\n",
    "from statsmodels.tsa.stattools import adfuller\n",
    "df_test=df.iloc[:,0].values\n",
    "adft = adfuller(df_test,autolag=\"AIC\")\n",
    "\n",
    "output_df = pd.DataFrame({\"Values\":[adft[0],adft[1],adft[2],adft[3], adft[4]['1%'], adft[4]['5%'], adft[4]['10%']]  , \"Metric\":[\"Test Statistics\",\"p-value\",\"No. of lags used\",\"Number of observations used\", \n",
    "                                                        \"critical value (1%)\", \"critical value (5%)\", \"critical value (10%)\"]})\n",
    "print(output_df)"
   ]
  },
  {
   "cell_type": "markdown",
   "id": "c7af387f",
   "metadata": {},
   "source": [
    "our data is not stationary as p value is higher than 0.05"
   ]
  },
  {
   "cell_type": "code",
   "execution_count": 22,
   "id": "e21ac67e",
   "metadata": {},
   "outputs": [
    {
     "name": "stdout",
     "output_type": "stream",
     "text": [
      "One Quarter Lag:  0.8380764708563181\n"
     ]
    }
   ],
   "source": [
    "# Checking for autocorrelation in time series data\n",
    "# This is a measure of how correlated time series data is at a given point in time with past values\n",
    "autocorrelation_lag1 = df['TotalVacancies'].autocorr(lag=1)\n",
    "print(\"One Quarter Lag: \", autocorrelation_lag1)"
   ]
  },
  {
   "cell_type": "code",
   "execution_count": 23,
   "id": "72b43a95",
   "metadata": {},
   "outputs": [
    {
     "name": "stdout",
     "output_type": "stream",
     "text": [
      "Two Quaretrs Lag:  0.695555219079688\n",
      "Three Quaretrs Lag:  0.6984699858483016\n",
      "Four Quaretrs Lag:  0.7744232851215945\n"
     ]
    }
   ],
   "source": [
    "autocorrelation_lag2 = df['TotalVacancies'].autocorr(lag=2)\n",
    "print(\"Two Quaretrs Lag: \", autocorrelation_lag2)\n",
    "\n",
    "autocorrelation_lag3 = df['TotalVacancies'].autocorr(lag=3)\n",
    "print(\"Three Quaretrs Lag: \", autocorrelation_lag3)\n",
    "\n",
    "autocorrelation_lag4 = df['TotalVacancies'].autocorr(lag=4)\n",
    "print(\"Four Quaretrs Lag: \", autocorrelation_lag4)"
   ]
  },
  {
   "cell_type": "markdown",
   "id": "ca09c943",
   "metadata": {},
   "source": [
    "the data is autocorrelated"
   ]
  },
  {
   "cell_type": "code",
   "execution_count": 79,
   "id": "28e69979",
   "metadata": {},
   "outputs": [
    {
     "data": {
      "image/png": "[encoded data removed]",
      "text/plain": [
       "<Figure size 1152x576 with 4 Axes>"
      ]
     },
     "metadata": {
      "needs_background": "light"
     },
     "output_type": "display_data"
    }
   ],
   "source": [
    "#Check for Trend decomposition is another useful way to visualize the trends in time series data\n",
    "from statsmodels.tsa.seasonal import seasonal_decompose\n",
    "decompose = seasonal_decompose(df['TotalVacancies'],model='additive', period=2)\n",
    "decompose.plot()\n",
    "plt.show()"
   ]
  },
  {
   "cell_type": "code",
   "execution_count": 25,
   "id": "bd8a00b5",
   "metadata": {},
   "outputs": [
    {
     "data": {
      "text/plain": [
       "TotalVacancies    float64\n",
       "dtype: object"
      ]
     },
     "execution_count": 25,
     "metadata": {},
     "output_type": "execute_result"
    }
   ],
   "source": [
    "df.dtypes"
   ]
  },
  {
   "cell_type": "markdown",
   "id": "e52ee9b7",
   "metadata": {},
   "source": [
    "From this plot, we can clearly see the increasing trend in number of vacancies and the seasonality patterns in the rise and fall in values each year."
   ]
  },
  {
   "cell_type": "code",
   "execution_count": 26,
   "id": "1f6a69e6",
   "metadata": {},
   "outputs": [
    {
     "name": "stderr",
     "output_type": "stream",
     "text": [
      "C:\\Users\\wisam\\anaconda3\\envs\\mlenv\\lib\\site-packages\\ipykernel_launcher.py:5: SettingWithCopyWarning: \n",
      "A value is trying to be set on a copy of a slice from a DataFrame.\n",
      "Try using .loc[row_indexer,col_indexer] = value instead\n",
      "\n",
      "See the caveats in the documentation: https://pandas.pydata.org/pandas-docs/stable/user_guide/indexing.html#returning-a-view-versus-a-copy\n",
      "  \"\"\"\n",
      "C:\\Users\\wisam\\anaconda3\\envs\\mlenv\\lib\\site-packages\\ipykernel_launcher.py:11: SettingWithCopyWarning: \n",
      "A value is trying to be set on a copy of a slice from a DataFrame.\n",
      "Try using .loc[row_indexer,col_indexer] = value instead\n",
      "\n",
      "See the caveats in the documentation: https://pandas.pydata.org/pandas-docs/stable/user_guide/indexing.html#returning-a-view-versus-a-copy\n",
      "  # This is added back by InteractiveShellApp.init_path()\n"
     ]
    },
    {
     "data": {
      "image/png": "[encoded data removed]",
      "text/plain": [
       "<Figure size 432x288 with 1 Axes>"
      ]
     },
     "metadata": {
      "needs_background": "light"
     },
     "output_type": "display_data"
    }
   ],
   "source": [
    "# Forescasting\n",
    "df['REF_DATE']=df.index\n",
    "train = df[df['REF_DATE'] < \"2019-04-01\"]\n",
    "train['train'] = train['TotalVacancies']\n",
    "del train['REF_DATE']\n",
    "del train['TotalVacancies']\n",
    "\n",
    "test = df[df['REF_DATE'] >= \"2019-04-01\"]\n",
    "del test['REF_DATE']\n",
    "test['test'] = test['TotalVacancies']\n",
    "del test['TotalVacancies']\n",
    "\n",
    "plt.plot(train, color = \"black\")\n",
    "plt.plot(test, color = \"red\")\n",
    "plt.title(\"Train/Test split for Job Vacancies Data\")\n",
    "plt.ylabel(\"Job Vacancies Number\")\n",
    "plt.xlabel('Year-Quarter')\n",
    "plt.xticks(rotation=45)\n",
    "sns.set()\n",
    "plt.show()"
   ]
  },
  {
   "cell_type": "code",
   "execution_count": 27,
   "id": "cacd641e",
   "metadata": {},
   "outputs": [
    {
     "data": {
      "text/plain": [
       "TotalVacancies           float64\n",
       "REF_DATE          datetime64[ns]\n",
       "dtype: object"
      ]
     },
     "execution_count": 27,
     "metadata": {},
     "output_type": "execute_result"
    }
   ],
   "source": [
    "df.dtypes"
   ]
  },
  {
   "cell_type": "markdown",
   "id": "e4d40a7e",
   "metadata": {},
   "source": [
    "## ARIMA"
   ]
  },
  {
   "cell_type": "code",
   "execution_count": 28,
   "id": "617106bc",
   "metadata": {},
   "outputs": [
    {
     "name": "stdout",
     "output_type": "stream",
     "text": [
      "Performing stepwise search to minimize aic\n",
      " ARIMA(2,1,2)(0,0,0)[0] intercept   : AIC=359.860, Time=0.48 sec\n",
      " ARIMA(0,1,0)(0,0,0)[0] intercept   : AIC=364.352, Time=0.02 sec\n",
      " ARIMA(1,1,0)(0,0,0)[0] intercept   : AIC=365.232, Time=0.03 sec\n",
      " ARIMA(0,1,1)(0,0,0)[0] intercept   : AIC=366.685, Time=0.05 sec\n",
      " ARIMA(0,1,0)(0,0,0)[0]             : AIC=362.507, Time=0.01 sec\n",
      " ARIMA(1,1,2)(0,0,0)[0] intercept   : AIC=inf, Time=0.30 sec\n",
      " ARIMA(2,1,1)(0,0,0)[0] intercept   : AIC=370.628, Time=0.09 sec\n",
      " ARIMA(3,1,2)(0,0,0)[0] intercept   : AIC=537.865, Time=0.46 sec\n",
      " ARIMA(2,1,3)(0,0,0)[0] intercept   : AIC=inf, Time=0.52 sec\n",
      " ARIMA(1,1,1)(0,0,0)[0] intercept   : AIC=368.752, Time=0.06 sec\n",
      " ARIMA(1,1,3)(0,0,0)[0] intercept   : AIC=inf, Time=0.38 sec\n",
      " ARIMA(3,1,1)(0,0,0)[0] intercept   : AIC=359.248, Time=0.12 sec\n",
      " ARIMA(3,1,0)(0,0,0)[0] intercept   : AIC=358.802, Time=0.12 sec\n",
      " ARIMA(2,1,0)(0,0,0)[0] intercept   : AIC=363.122, Time=0.05 sec\n",
      " ARIMA(4,1,0)(0,0,0)[0] intercept   : AIC=406.740, Time=0.08 sec\n",
      " ARIMA(4,1,1)(0,0,0)[0] intercept   : AIC=inf, Time=0.54 sec\n",
      " ARIMA(3,1,0)(0,0,0)[0]             : AIC=363.325, Time=0.05 sec\n",
      "\n",
      "Best model:  ARIMA(3,1,0)(0,0,0)[0] intercept\n",
      "Total fit time: 3.568 seconds\n"
     ]
    }
   ],
   "source": [
    "# import auto_arima from the pdmarima package, train our model and generate predictions using ARIMA\n",
    "from pmdarima.arima import auto_arima\n",
    "model = auto_arima(train, trace=True, error_action='ignore', suppress_warnings=True)\n",
    "model.fit(train)\n",
    "forecast = model.predict(n_periods=len(test))\n",
    "forecast = pd.DataFrame(forecast,index = test.index,columns=['Prediction'])"
   ]
  },
  {
   "cell_type": "code",
   "execution_count": 29,
   "id": "ef60c33b",
   "metadata": {},
   "outputs": [
    {
     "data": {
      "text/html": [
       "<div>\n",
       "<style scoped>\n",
       "    .dataframe tbody tr th:only-of-type {\n",
       "        vertical-align: middle;\n",
       "    }\n",
       "\n",
       "    .dataframe tbody tr th {\n",
       "        vertical-align: top;\n",
       "    }\n",
       "\n",
       "    .dataframe thead th {\n",
       "        text-align: right;\n",
       "    }\n",
       "</style>\n",
       "<table border=\"1\" class=\"dataframe\">\n",
       "  <thead>\n",
       "    <tr style=\"text-align: right;\">\n",
       "      <th></th>\n",
       "      <th>TotalVacancies</th>\n",
       "      <th>Prediction</th>\n",
       "    </tr>\n",
       "    <tr>\n",
       "      <th>REF_DATE</th>\n",
       "      <th></th>\n",
       "      <th></th>\n",
       "    </tr>\n",
       "  </thead>\n",
       "  <tbody>\n",
       "    <tr>\n",
       "      <th>2019-04-01</th>\n",
       "      <td>581595.0</td>\n",
       "      <td>547197.827224</td>\n",
       "    </tr>\n",
       "    <tr>\n",
       "      <th>2019-07-01</th>\n",
       "      <td>562910.0</td>\n",
       "      <td>578440.727086</td>\n",
       "    </tr>\n",
       "    <tr>\n",
       "      <th>2019-10-01</th>\n",
       "      <td>508590.0</td>\n",
       "      <td>598473.019311</td>\n",
       "    </tr>\n",
       "  </tbody>\n",
       "</table>\n",
       "</div>"
      ],
      "text/plain": [
       "            TotalVacancies     Prediction\n",
       "REF_DATE                                 \n",
       "2019-04-01        581595.0  547197.827224\n",
       "2019-07-01        562910.0  578440.727086\n",
       "2019-10-01        508590.0  598473.019311"
      ]
     },
     "execution_count": 29,
     "metadata": {},
     "output_type": "execute_result"
    }
   ],
   "source": [
    "output = df.merge(forecast, how='inner', left_index=True, right_index=True)\n",
    "output.drop(columns='REF_DATE', inplace=True)\n",
    "output.head()"
   ]
  },
  {
   "cell_type": "code",
   "execution_count": 30,
   "id": "59ac3a50",
   "metadata": {},
   "outputs": [
    {
     "data": {
      "image/png": "[encoded data removed]",
      "text/plain": [
       "<Figure size 432x288 with 1 Axes>"
      ]
     },
     "metadata": {},
     "output_type": "display_data"
    }
   ],
   "source": [
    "plt.plot(train, color = \"black\")\n",
    "plt.plot(test, color = \"red\")\n",
    "plt.plot(forecast['Prediction'],color= 'green')\n",
    "plt.title(\"Train/Test split for Job Vacancies Data\")\n",
    "plt.ylabel(\"Job Vacancies Number\")\n",
    "plt.xlabel('Year-Quarter')\n",
    "plt.xticks(rotation=45)\n",
    "plt.ylim(ymin=0)\n",
    "sns.set()\n",
    "plt.show()"
   ]
  },
  {
   "cell_type": "code",
   "execution_count": 31,
   "id": "2eb80cdf",
   "metadata": {},
   "outputs": [
    {
     "name": "stdout",
     "output_type": "stream",
     "text": [
      "RMSE:  56282.993699489794\n"
     ]
    }
   ],
   "source": [
    "from math import sqrt\n",
    "from sklearn.metrics import mean_squared_error\n",
    "rms = sqrt(mean_squared_error(test,forecast))\n",
    "print(\"RMSE: \", rms)"
   ]
  },
  {
   "cell_type": "markdown",
   "id": "f8a1bc83",
   "metadata": {},
   "source": [
    "## SARIMA"
   ]
  },
  {
   "cell_type": "markdown",
   "id": "efb93504",
   "metadata": {},
   "source": [
    "source: https://www.statsmodels.org/dev/examples/notebooks/generated/statespace_sarimax_stata.html"
   ]
  },
  {
   "cell_type": "code",
   "execution_count": 42,
   "id": "218f3f39",
   "metadata": {},
   "outputs": [],
   "source": [
    "%matplotlib inline"
   ]
  },
  {
   "cell_type": "code",
   "execution_count": 43,
   "id": "696b6142",
   "metadata": {},
   "outputs": [],
   "source": [
    "import numpy as np\n",
    "import pandas as pd\n",
    "from scipy.stats import norm\n",
    "import statsmodels.api as sm\n",
    "import matplotlib.pyplot as plt\n",
    "from datetime import datetime\n",
    "import requests\n",
    "from io import BytesIO\n",
    "from statsmodels.tsa.statespace.sarimax import SARIMAXResults\n",
    "# Register converters to avoid warnings\n",
    "pd.plotting.register_matplotlib_converters()\n",
    "plt.rc(\"figure\", figsize=(16,8))\n",
    "plt.rc(\"font\", size=14)"
   ]
  },
  {
   "cell_type": "code",
   "execution_count": 82,
   "id": "ca37ab09",
   "metadata": {},
   "outputs": [
    {
     "name": "stdout",
     "output_type": "stream",
     "text": [
      "                                 SARIMAX Results                                 \n",
      "=================================================================================\n",
      "Dep. Variable:                     train   No. Observations:                   16\n",
      "Model:             SARIMAX(1, 1, [1], 2)   Log Likelihood                -168.010\n",
      "Date:                   Sun, 14 Nov 2021   AIC                            342.020\n",
      "Time:                           11:48:37   BIC                            343.937\n",
      "Sample:                       04-01-2015   HQIC                           341.843\n",
      "                            - 01-01-2019                                         \n",
      "Covariance Type:                     opg                                         \n",
      "==============================================================================\n",
      "                 coef    std err          z      P>|z|      [0.025      0.975]\n",
      "------------------------------------------------------------------------------\n",
      "ar.S.L2       -0.8905      0.191     -4.657      0.000      -1.265      -0.516\n",
      "ma.S.L2        0.7837      0.295      2.658      0.008       0.206       1.362\n",
      "sigma2       2.46e+09   1.47e-11   1.67e+20      0.000    2.46e+09    2.46e+09\n",
      "===================================================================================\n",
      "Ljung-Box (L1) (Q):                   6.02   Jarque-Bera (JB):                 1.93\n",
      "Prob(Q):                              0.01   Prob(JB):                         0.38\n",
      "Heteroskedasticity (H):               1.94   Skew:                            -0.76\n",
      "Prob(H) (two-sided):                  0.49   Kurtosis:                         2.01\n",
      "===================================================================================\n",
      "\n",
      "Warnings:\n",
      "[1] Covariance matrix calculated using the outer product of gradients (complex-step).\n",
      "[2] Covariance matrix is singular or near-singular, with condition number 3.86e+36. Standard errors may be unstable.\n"
     ]
    },
    {
     "name": "stderr",
     "output_type": "stream",
     "text": [
      "C:\\Users\\wisam\\anaconda3\\envs\\mlenv\\lib\\site-packages\\statsmodels\\tsa\\base\\tsa_model.py:527: ValueWarning: No frequency information was provided, so inferred frequency QS-OCT will be used.\n",
      "  % freq, ValueWarning)\n",
      "C:\\Users\\wisam\\anaconda3\\envs\\mlenv\\lib\\site-packages\\statsmodels\\tsa\\base\\tsa_model.py:527: ValueWarning: No frequency information was provided, so inferred frequency QS-OCT will be used.\n",
      "  % freq, ValueWarning)\n",
      "C:\\Users\\wisam\\anaconda3\\envs\\mlenv\\lib\\site-packages\\statsmodels\\tsa\\statespace\\sarimax.py:1009: UserWarning: Non-invertible starting seasonal moving average Using zeros as starting parameters.\n",
      "  warn('Non-invertible starting seasonal moving average'\n"
     ]
    }
   ],
   "source": [
    "# Dataset\n",
    "data = df\n",
    "data.index = data.REF_DATE\n",
    "# Set the frequency\n",
    "data.index.freq=\"QS-OCT\"\n",
    "\n",
    "# Fit the model (configuration is set using previous autocorreleation, trend decomposition tests)\n",
    "mod = sm.tsa.statespace.SARIMAX(train, trend='n', order=(0,0,0),seasonal_order=(1, 1, 1, 2))\n",
    "res = mod.fit(disp=False)\n",
    "print(res.summary())"
   ]
  },
  {
   "cell_type": "code",
   "execution_count": 92,
   "id": "458a50e0",
   "metadata": {},
   "outputs": [
    {
     "data": {
      "text/html": [
       "<div>\n",
       "<style scoped>\n",
       "    .dataframe tbody tr th:only-of-type {\n",
       "        vertical-align: middle;\n",
       "    }\n",
       "\n",
       "    .dataframe tbody tr th {\n",
       "        vertical-align: top;\n",
       "    }\n",
       "\n",
       "    .dataframe thead th {\n",
       "        text-align: right;\n",
       "    }\n",
       "</style>\n",
       "<table border=\"1\" class=\"dataframe\">\n",
       "  <thead>\n",
       "    <tr style=\"text-align: right;\">\n",
       "      <th></th>\n",
       "      <th>Prediction2</th>\n",
       "    </tr>\n",
       "    <tr>\n",
       "      <th>REF_DATE</th>\n",
       "      <th></th>\n",
       "    </tr>\n",
       "  </thead>\n",
       "  <tbody>\n",
       "    <tr>\n",
       "      <th>2019-04-01</th>\n",
       "      <td>572922.137524</td>\n",
       "    </tr>\n",
       "    <tr>\n",
       "      <th>2019-07-01</th>\n",
       "      <td>538938.818991</td>\n",
       "    </tr>\n",
       "    <tr>\n",
       "      <th>2019-10-01</th>\n",
       "      <td>550133.012871</td>\n",
       "    </tr>\n",
       "  </tbody>\n",
       "</table>\n",
       "</div>"
      ],
      "text/plain": [
       "              Prediction2\n",
       "REF_DATE                 \n",
       "2019-04-01  572922.137524\n",
       "2019-07-01  538938.818991\n",
       "2019-10-01  550133.012871"
      ]
     },
     "execution_count": 92,
     "metadata": {},
     "output_type": "execute_result"
    }
   ],
   "source": [
    "forecast2 = res.predict(test.index[0],test.index[-1], dynamic=True)\n",
    "forecast2 = pd.DataFrame(forecast2.values,index = test.index,columns=['Prediction2'])\n",
    "forecast2.head()"
   ]
  },
  {
   "cell_type": "code",
   "execution_count": 95,
   "id": "af169699",
   "metadata": {},
   "outputs": [
    {
     "data": {
      "text/html": [
       "<div>\n",
       "<style scoped>\n",
       "    .dataframe tbody tr th:only-of-type {\n",
       "        vertical-align: middle;\n",
       "    }\n",
       "\n",
       "    .dataframe tbody tr th {\n",
       "        vertical-align: top;\n",
       "    }\n",
       "\n",
       "    .dataframe thead th {\n",
       "        text-align: right;\n",
       "    }\n",
       "</style>\n",
       "<table border=\"1\" class=\"dataframe\">\n",
       "  <thead>\n",
       "    <tr style=\"text-align: right;\">\n",
       "      <th></th>\n",
       "      <th>test</th>\n",
       "      <th>Prediction2</th>\n",
       "    </tr>\n",
       "    <tr>\n",
       "      <th>REF_DATE</th>\n",
       "      <th></th>\n",
       "      <th></th>\n",
       "    </tr>\n",
       "  </thead>\n",
       "  <tbody>\n",
       "    <tr>\n",
       "      <th>2019-04-01</th>\n",
       "      <td>581595.0</td>\n",
       "      <td>572922.137524</td>\n",
       "    </tr>\n",
       "    <tr>\n",
       "      <th>2019-07-01</th>\n",
       "      <td>562910.0</td>\n",
       "      <td>538938.818991</td>\n",
       "    </tr>\n",
       "    <tr>\n",
       "      <th>2019-10-01</th>\n",
       "      <td>508590.0</td>\n",
       "      <td>550133.012871</td>\n",
       "    </tr>\n",
       "  </tbody>\n",
       "</table>\n",
       "</div>"
      ],
      "text/plain": [
       "                test    Prediction2\n",
       "REF_DATE                           \n",
       "2019-04-01  581595.0  572922.137524\n",
       "2019-07-01  562910.0  538938.818991\n",
       "2019-10-01  508590.0  550133.012871"
      ]
     },
     "execution_count": 95,
     "metadata": {},
     "output_type": "execute_result"
    }
   ],
   "source": [
    "output2 = test.merge(forecast2, how='inner', left_index=True, right_index=True)\n",
    "#output2.drop(columns='REF_DATE', inplace=True)\n",
    "output2.head()"
   ]
  },
  {
   "cell_type": "code",
   "execution_count": 96,
   "id": "13dbc36a",
   "metadata": {},
   "outputs": [
    {
     "data": {
      "image/png": "[encoded data removed]",
      "text/plain": [
       "<Figure size 1152x576 with 1 Axes>"
      ]
     },
     "metadata": {
      "needs_background": "light"
     },
     "output_type": "display_data"
    }
   ],
   "source": [
    "plt.plot(train, color = \"black\")\n",
    "plt.plot(test, color = \"red\")\n",
    "plt.plot(forecast2['Prediction2'],color= 'green')\n",
    "plt.title(\"Train/Test split for Job Vacancies Data\")\n",
    "plt.ylabel(\"Job Vacancies Number\")\n",
    "plt.xlabel('Year-Quarter')\n",
    "plt.xticks(rotation=45)\n",
    "plt.ylim(ymin=0)\n",
    "sns.set()\n",
    "plt.show()"
   ]
  },
  {
   "cell_type": "code",
   "execution_count": 97,
   "id": "33d246b5",
   "metadata": {},
   "outputs": [
    {
     "data": {
      "text/plain": [
       "2020-01-01    509732.334235\n",
       "Freq: QS-OCT, dtype: float64"
      ]
     },
     "execution_count": 97,
     "metadata": {},
     "output_type": "execute_result"
    }
   ],
   "source": [
    "forecast2020 = res.predict('2020-01-01')\n",
    "forecast2020.head()"
   ]
  },
  {
   "cell_type": "code",
   "execution_count": 98,
   "id": "6fe68c20",
   "metadata": {},
   "outputs": [
    {
     "data": {
      "text/plain": [
       "2021-01-01    512580.85181\n",
       "Freq: QS-OCT, dtype: float64"
      ]
     },
     "execution_count": 98,
     "metadata": {},
     "output_type": "execute_result"
    }
   ],
   "source": [
    "forecast2021 = res.predict('2021-01-01')\n",
    "forecast2021.head()"
   ]
  },
  {
   "cell_type": "code",
   "execution_count": 49,
   "id": "4b322977",
   "metadata": {},
   "outputs": [],
   "source": [
    "from pmdarima.arima import auto_arima"
   ]
  },
  {
   "cell_type": "code",
   "execution_count": 51,
   "id": "1d73891f",
   "metadata": {},
   "outputs": [
    {
     "name": "stdout",
     "output_type": "stream",
     "text": [
      "Performing stepwise search to minimize aic\n",
      " ARIMA(1,1,1)(0,1,0)[4]             : AIC=248.587, Time=0.08 sec\n",
      " ARIMA(0,1,0)(0,1,0)[4]             : AIC=257.062, Time=0.03 sec\n",
      " ARIMA(1,1,0)(1,1,0)[4]             : AIC=255.353, Time=0.06 sec\n",
      " ARIMA(0,1,1)(0,1,1)[4]             : AIC=254.269, Time=0.06 sec\n",
      " ARIMA(1,1,1)(1,1,0)[4]             : AIC=250.580, Time=0.11 sec\n",
      " ARIMA(1,1,1)(0,1,1)[4]             : AIC=250.580, Time=0.10 sec\n",
      " ARIMA(1,1,1)(1,1,1)[4]             : AIC=252.333, Time=0.32 sec\n",
      " ARIMA(0,1,1)(0,1,0)[4]             : AIC=254.310, Time=0.04 sec\n",
      " ARIMA(1,1,0)(0,1,0)[4]             : AIC=254.668, Time=0.09 sec\n",
      " ARIMA(2,1,1)(0,1,0)[4]             : AIC=250.398, Time=0.10 sec\n",
      " ARIMA(1,1,2)(0,1,0)[4]             : AIC=253.489, Time=0.17 sec\n",
      " ARIMA(0,1,2)(0,1,0)[4]             : AIC=253.478, Time=0.04 sec\n",
      " ARIMA(2,1,0)(0,1,0)[4]             : AIC=256.257, Time=0.04 sec\n",
      " ARIMA(2,1,2)(0,1,0)[4]             : AIC=255.730, Time=0.15 sec\n",
      " ARIMA(1,1,1)(0,1,0)[4] intercept   : AIC=259.111, Time=0.12 sec\n",
      "\n",
      "Best model:  ARIMA(1,1,1)(0,1,0)[4]          \n",
      "Total fit time: 1.550 seconds\n"
     ]
    }
   ],
   "source": [
    "Arima_model=auto_arima(train, start_p=1, start_q=1, max_p=4, max_q=4, start_P=0, start_Q=0, max_P=4, max_Q=4, m=4, seasonal=True, trace=True, d=1, D=1, error_action='warn', suppress_warnings=True, random_state = 20, n_fits=16)"
   ]
  },
  {
   "cell_type": "code",
   "execution_count": 66,
   "id": "2612066d",
   "metadata": {},
   "outputs": [
    {
     "name": "stdout",
     "output_type": "stream",
     "text": [
      "                                     SARIMAX Results                                      \n",
      "==========================================================================================\n",
      "Dep. Variable:                              train   No. Observations:                   16\n",
      "Model:             SARIMAX(1, 1, 1)x(0, 1, [], 4)   Log Likelihood                -121.293\n",
      "Date:                            Sun, 14 Nov 2021   AIC                            248.587\n",
      "Time:                                    11:29:24   BIC                            249.781\n",
      "Sample:                                04-01-2015   HQIC                           247.834\n",
      "                                     - 01-01-2019                                         \n",
      "Covariance Type:                              opg                                         \n",
      "==============================================================================\n",
      "                 coef    std err          z      P>|z|      [0.025      0.975]\n",
      "------------------------------------------------------------------------------\n",
      "ar.L1          0.5852      0.335      1.748      0.081      -0.071       1.241\n",
      "ma.L1         -0.7619      0.259     -2.943      0.003      -1.269      -0.254\n",
      "sigma2      2.874e+08   2.68e-10   1.07e+18      0.000    2.87e+08    2.87e+08\n",
      "===================================================================================\n",
      "Ljung-Box (L1) (Q):                   0.95   Jarque-Bera (JB):                 0.41\n",
      "Prob(Q):                              0.33   Prob(JB):                         0.81\n",
      "Heteroskedasticity (H):               5.39   Skew:                            -0.47\n",
      "Prob(H) (two-sided):                  0.13   Kurtosis:                         3.16\n",
      "===================================================================================\n",
      "\n",
      "Warnings:\n",
      "[1] Covariance matrix calculated using the outer product of gradients (complex-step).\n",
      "[2] Covariance matrix is singular or near-singular, with condition number 7.12e+33. Standard errors may be unstable.\n"
     ]
    },
    {
     "name": "stderr",
     "output_type": "stream",
     "text": [
      "C:\\Users\\wisam\\anaconda3\\envs\\mlenv\\lib\\site-packages\\statsmodels\\tsa\\base\\tsa_model.py:527: ValueWarning: No frequency information was provided, so inferred frequency QS-OCT will be used.\n",
      "  % freq, ValueWarning)\n",
      "C:\\Users\\wisam\\anaconda3\\envs\\mlenv\\lib\\site-packages\\statsmodels\\tsa\\base\\tsa_model.py:527: ValueWarning: No frequency information was provided, so inferred frequency QS-OCT will be used.\n",
      "  % freq, ValueWarning)\n"
     ]
    }
   ],
   "source": [
    "# Dataset\n",
    "data = df\n",
    "data.index = data.REF_DATE\n",
    "# Set the frequency\n",
    "data.index.freq=\"QS-OCT\"\n",
    "\n",
    "# Fit the model (configuration is set using auto_arima)\n",
    "mod2 = sm.tsa.statespace.SARIMAX(train, trend='n', order=(1,1,1),seasonal_order=(0, 1, 0, 4))\n",
    "res2 = mod2.fit(disp=False)\n",
    "print(res2.summary())"
   ]
  },
  {
   "cell_type": "code",
   "execution_count": 100,
   "id": "92438a1f",
   "metadata": {},
   "outputs": [
    {
     "name": "stdout",
     "output_type": "stream",
     "text": [
      "              Prediction3\n",
      "REF_DATE                 \n",
      "2019-04-01  572922.137524\n",
      "2019-07-01  538938.818991\n",
      "2019-10-01  550133.012871\n"
     ]
    }
   ],
   "source": [
    "forecast3 = res2.predict(test.index[0],test.index[-1], dynamic=True)\n",
    "forecast3 = pd.DataFrame(forecast2.values,index = test.index,columns=['Prediction3'])\n",
    "print(forecast3)"
   ]
  },
  {
   "cell_type": "code",
   "execution_count": 101,
   "id": "fcfd9cd5",
   "metadata": {},
   "outputs": [
    {
     "data": {
      "image/png": "[encoded data removed]",
      "text/plain": [
       "<Figure size 1152x576 with 1 Axes>"
      ]
     },
     "metadata": {},
     "output_type": "display_data"
    }
   ],
   "source": [
    "plt.plot(train, color = \"black\")\n",
    "plt.plot(test, color = \"red\")\n",
    "plt.plot(forecast3['Prediction3'],color= 'green')\n",
    "plt.title(\"Train/Test split for Job Vacancies Data\")\n",
    "plt.ylabel(\"Job Vacancies Number\")\n",
    "plt.xlabel('Year-Quarter')\n",
    "plt.xticks(rotation=45)\n",
    "plt.ylim(ymin=0)\n",
    "sns.set()\n",
    "plt.show()"
   ]
  },
  {
   "cell_type": "code",
   "execution_count": null,
   "id": "580aa975",
   "metadata": {},
   "outputs": [],
   "source": []
  }
 ],
 "metadata": {
  "kernelspec": {
   "display_name": "mlenv",
   "language": "python",
   "name": "mlenv"
  },
  "language_info": {
   "codemirror_mode": {
    "name": "ipython",
    "version": 3
   },
   "file_extension": ".py",
   "mimetype": "text/x-python",
   "name": "python",
   "nbconvert_exporter": "python",
   "pygments_lexer": "ipython3",
   "version": "3.7.10"
  }
 },
 "nbformat": 4,
 "nbformat_minor": 5
}
