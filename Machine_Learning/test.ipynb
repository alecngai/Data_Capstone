{
 "cells": [
  {
   "cell_type": "code",
   "execution_count": 21,
   "metadata": {},
   "outputs": [],
   "source": [
    "import pandas as pd"
   ]
  },
  {
   "cell_type": "code",
   "execution_count": 25,
   "metadata": {},
   "outputs": [
    {
     "data": {
      "text/html": [
       "<div>\n",
       "<style scoped>\n",
       "    .dataframe tbody tr th:only-of-type {\n",
       "        vertical-align: middle;\n",
       "    }\n",
       "\n",
       "    .dataframe tbody tr th {\n",
       "        vertical-align: top;\n",
       "    }\n",
       "\n",
       "    .dataframe thead th {\n",
       "        text-align: right;\n",
       "    }\n",
       "</style>\n",
       "<table border=\"1\" class=\"dataframe\">\n",
       "  <thead>\n",
       "    <tr style=\"text-align: right;\">\n",
       "      <th></th>\n",
       "      <th>REF_DATE</th>\n",
       "      <th>GEO</th>\n",
       "      <th>Prediction</th>\n",
       "    </tr>\n",
       "  </thead>\n",
       "  <tbody>\n",
       "    <tr>\n",
       "      <th>0</th>\n",
       "      <td>2020-04-01</td>\n",
       "      <td>Ontario</td>\n",
       "      <td>694514.029993</td>\n",
       "    </tr>\n",
       "    <tr>\n",
       "      <th>1</th>\n",
       "      <td>2020-07-01</td>\n",
       "      <td>Ontario</td>\n",
       "      <td>568118.397816</td>\n",
       "    </tr>\n",
       "    <tr>\n",
       "      <th>2</th>\n",
       "      <td>2020-10-01</td>\n",
       "      <td>Ontario</td>\n",
       "      <td>564241.829743</td>\n",
       "    </tr>\n",
       "    <tr>\n",
       "      <th>3</th>\n",
       "      <td>2021-01-01</td>\n",
       "      <td>Ontario</td>\n",
       "      <td>411984.822738</td>\n",
       "    </tr>\n",
       "    <tr>\n",
       "      <th>4</th>\n",
       "      <td>2021-04-01</td>\n",
       "      <td>Ontario</td>\n",
       "      <td>410575.427260</td>\n",
       "    </tr>\n",
       "    <tr>\n",
       "      <th>...</th>\n",
       "      <td>...</td>\n",
       "      <td>...</td>\n",
       "      <td>...</td>\n",
       "    </tr>\n",
       "    <tr>\n",
       "      <th>268</th>\n",
       "      <td>2024-04-01</td>\n",
       "      <td>Northwest Territories</td>\n",
       "      <td>17784.754659</td>\n",
       "    </tr>\n",
       "    <tr>\n",
       "      <th>269</th>\n",
       "      <td>2024-07-01</td>\n",
       "      <td>Northwest Territories</td>\n",
       "      <td>19353.870111</td>\n",
       "    </tr>\n",
       "    <tr>\n",
       "      <th>270</th>\n",
       "      <td>2024-10-01</td>\n",
       "      <td>Northwest Territories</td>\n",
       "      <td>20892.900313</td>\n",
       "    </tr>\n",
       "    <tr>\n",
       "      <th>271</th>\n",
       "      <td>2025-01-01</td>\n",
       "      <td>Northwest Territories</td>\n",
       "      <td>22638.550753</td>\n",
       "    </tr>\n",
       "    <tr>\n",
       "      <th>272</th>\n",
       "      <td>2025-04-01</td>\n",
       "      <td>Northwest Territories</td>\n",
       "      <td>24358.736130</td>\n",
       "    </tr>\n",
       "  </tbody>\n",
       "</table>\n",
       "<p>273 rows × 3 columns</p>\n",
       "</div>"
      ],
      "text/plain": [
       "       REF_DATE                    GEO     Prediction\n",
       "0    2020-04-01                Ontario  694514.029993\n",
       "1    2020-07-01                Ontario  568118.397816\n",
       "2    2020-10-01                Ontario  564241.829743\n",
       "3    2021-01-01                Ontario  411984.822738\n",
       "4    2021-04-01                Ontario  410575.427260\n",
       "..          ...                    ...            ...\n",
       "268  2024-04-01  Northwest Territories   17784.754659\n",
       "269  2024-07-01  Northwest Territories   19353.870111\n",
       "270  2024-10-01  Northwest Territories   20892.900313\n",
       "271  2025-01-01  Northwest Territories   22638.550753\n",
       "272  2025-04-01  Northwest Territories   24358.736130\n",
       "\n",
       "[273 rows x 3 columns]"
      ]
     },
     "execution_count": 25,
     "metadata": {},
     "output_type": "execute_result"
    }
   ],
   "source": [
    "df = pd.read_csv(\"Resources/prov_prediction.csv\")\n",
    "df.rename(columns={\"Unnamed: 0\": \"REF_DATE\"},inplace=True)\n",
    "df = df.melt(id_vars=\"REF_DATE\", var_name=\"GEO\", value_name=\"Prediction\")\n",
    "df"
   ]
  },
  {
   "cell_type": "code",
   "execution_count": null,
   "metadata": {},
   "outputs": [],
   "source": []
  }
 ],
 "metadata": {
  "interpreter": {
   "hash": "7fb40b2bff4b8c02e62704ce8519f89739dc9c6a2ee22d7f8a1f86f8545468be"
  },
  "kernelspec": {
   "display_name": "Python 3.7.10 64-bit ('mlenv': conda)",
   "language": "python",
   "name": "python3"
  },
  "language_info": {
   "codemirror_mode": {
    "name": "ipython",
    "version": 3
   },
   "file_extension": ".py",
   "mimetype": "text/x-python",
   "name": "python",
   "nbconvert_exporter": "python",
   "pygments_lexer": "ipython3",
   "version": "3.7.10"
  },
  "orig_nbformat": 4
 },
 "nbformat": 4,
 "nbformat_minor": 2
}
